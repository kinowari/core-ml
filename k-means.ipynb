{
 "cells": [
  {
   "cell_type": "code",
   "execution_count": 1,
   "id": "0c567a88",
   "metadata": {},
   "outputs": [],
   "source": [
    "import random\n",
    "import numpy as np\n",
    "import pandas as pd\n",
    "from math import ceil, inf, sqrt\n",
    "import plotly.express as px\n",
    "from sklearn.datasets import make_blobs\n",
    "from scipy.spatial.distance import cdist"
   ]
  },
  {
   "cell_type": "code",
   "execution_count": null,
   "id": "28fb51c3",
   "metadata": {},
   "outputs": [],
   "source": []
  },
  {
   "cell_type": "code",
   "execution_count": 3,
   "id": "1938bc84",
   "metadata": {},
   "outputs": [],
   "source": [
    "# X, y_true = make_blobs(n_samples = 400, centers = 5, cluster_std = 0.60, random_state = 21, center_box = (2, 6))\n",
    "# X, y_true = make_blobs(n_samples = 400, centers = 4, cluster_std = 0.60, random_state = 21)\n",
    "# df = pd.DataFrame(data = {'col1': X[:, 0], 'col2': X[:, 1]})"
   ]
  },
  {
   "cell_type": "code",
   "execution_count": null,
   "id": "5f963292",
   "metadata": {},
   "outputs": [],
   "source": []
  },
  {
   "cell_type": "code",
   "execution_count": 114,
   "id": "79be0447",
   "metadata": {},
   "outputs": [],
   "source": [
    "petals = np.random.normal(4.5, 2, size=(1, 140))[0]\n",
    "petals_count = np.random.normal(15, 8, size=(1, 140))[0]\n",
    "y = ['rose' for i in range(140)]\n",
    "\n",
    "petals = np.append(petals, np.random.normal(4, 1.5, size=(1, 120))[0])\n",
    "petals_count = np.append(petals_count, np.random.normal(6, 1, size=(1, 120))[0])\n",
    "y += ['tulpan' for i in range(120)]\n",
    "\n",
    "petals = np.append(petals, np.random.normal(13, 2, size=(1, 100))[0])\n",
    "petals_count = np.append(petals_count, np.random.normal(6, 0.5, size=(1, 100))[0])\n",
    "y += ['gladiolus' for i in range(100)]\n",
    "\n",
    "petals = np.append(petals, np.random.normal(1.5, 1, size=(1, 120))[0])\n",
    "petals_count = np.append(petals_count, np.random.normal(7.5, 1.5, size=(1, 120))[0])\n",
    "y += ['fialk' for i in range(120)]\n",
    "\n"
   ]
  },
  {
   "cell_type": "code",
   "execution_count": 115,
   "id": "9e876cb9",
   "metadata": {},
   "outputs": [
    {
     "data": {
      "text/plain": [
       "array([[-0.22173957,  6.46893805,  7.38177934,  1.45285973],\n",
       "       [ 0.79372263,  4.06598   ,  2.71488572,  4.13198408]])"
      ]
     },
     "execution_count": 115,
     "metadata": {},
     "output_type": "execute_result"
    }
   ],
   "source": [
    "np.random.normal(3, 2.5, size=(2, 4))"
   ]
  },
  {
   "cell_type": "code",
   "execution_count": 116,
   "id": "ff6bce7a",
   "metadata": {},
   "outputs": [],
   "source": [
    "df = pd.DataFrame(data = {'petals': petals, 'petals_count': petals_count})"
   ]
  },
  {
   "cell_type": "code",
   "execution_count": 117,
   "id": "3c382502",
   "metadata": {},
   "outputs": [
    {
     "data": {
      "text/html": [
       "<div>\n",
       "<style scoped>\n",
       "    .dataframe tbody tr th:only-of-type {\n",
       "        vertical-align: middle;\n",
       "    }\n",
       "\n",
       "    .dataframe tbody tr th {\n",
       "        vertical-align: top;\n",
       "    }\n",
       "\n",
       "    .dataframe thead th {\n",
       "        text-align: right;\n",
       "    }\n",
       "</style>\n",
       "<table border=\"1\" class=\"dataframe\">\n",
       "  <thead>\n",
       "    <tr style=\"text-align: right;\">\n",
       "      <th></th>\n",
       "      <th>petals</th>\n",
       "      <th>petals_count</th>\n",
       "    </tr>\n",
       "  </thead>\n",
       "  <tbody>\n",
       "    <tr>\n",
       "      <th>0</th>\n",
       "      <td>2.813820</td>\n",
       "      <td>36.235939</td>\n",
       "    </tr>\n",
       "    <tr>\n",
       "      <th>1</th>\n",
       "      <td>4.758918</td>\n",
       "      <td>5.332751</td>\n",
       "    </tr>\n",
       "    <tr>\n",
       "      <th>2</th>\n",
       "      <td>5.957011</td>\n",
       "      <td>26.400170</td>\n",
       "    </tr>\n",
       "    <tr>\n",
       "      <th>3</th>\n",
       "      <td>1.884869</td>\n",
       "      <td>15.914858</td>\n",
       "    </tr>\n",
       "    <tr>\n",
       "      <th>4</th>\n",
       "      <td>5.530425</td>\n",
       "      <td>0.995912</td>\n",
       "    </tr>\n",
       "  </tbody>\n",
       "</table>\n",
       "</div>"
      ],
      "text/plain": [
       "     petals  petals_count\n",
       "0  2.813820     36.235939\n",
       "1  4.758918      5.332751\n",
       "2  5.957011     26.400170\n",
       "3  1.884869     15.914858\n",
       "4  5.530425      0.995912"
      ]
     },
     "execution_count": 117,
     "metadata": {},
     "output_type": "execute_result"
    }
   ],
   "source": [
    "df.head()"
   ]
  },
  {
   "cell_type": "code",
   "execution_count": 118,
   "id": "e43f83ce",
   "metadata": {},
   "outputs": [],
   "source": [
    "class K_means:\n",
    "    def __init__(self,\n",
    "                 K: int,\n",
    "                 data: pd.DataFrame,\n",
    "                 feat: int,\n",
    "                 iter_n = None,\n",
    "                 dist_f = None,\n",
    "                 power = None) -> np.array:\n",
    "        self.K = K\n",
    "        self.data = data.copy()\n",
    "        self.feat = feat\n",
    "        self.iter_n = iter_n\n",
    "        self.dist_f = dist_f\n",
    "        self.power = power\n",
    "        \n",
    "        \n",
    "    def centroid(self):\n",
    "        centr = []\n",
    "        for k in range(self.K):\n",
    "            centr.append(np.array(self.data.iloc[random.randint(0, self.data.shape[0])].tolist()))        \n",
    "        return centr    \n",
    "    \n",
    "    \n",
    "    def evclid(self, point):\n",
    "        dist = inf \n",
    "        point = np.array(point)\n",
    "        for c in self.centr:\n",
    "            dist_p = sqrt(sum((point-c)**2))\n",
    "            if dist_p < dist:\n",
    "                dist = dist_p\n",
    "                cluster = c\n",
    "        return np.where(self.centr == cluster)[0][0] \n",
    "    \n",
    "    \n",
    "    def rootevclid(self, point):\n",
    "        dist = inf \n",
    "        point = np.array(point)\n",
    "        for c in self.centr:\n",
    "            dist_p = sum((point-c)**2)\n",
    "            if dist_p < dist:\n",
    "                dist = dist_p\n",
    "                cluster = c\n",
    "        return np.where(self.centr == cluster)[0][0]  \n",
    "    \n",
    "    \n",
    "    def chebyshev(self, point):\n",
    "        dist = inf \n",
    "        point = np.array(point)\n",
    "        for c in self.centr:\n",
    "            dist_p = abs(point - c).max()\n",
    "            if dist_p < dist:\n",
    "                dist = dist_p\n",
    "                cluster = c\n",
    "        return np.where(self.centr == cluster)[0][0]  \n",
    "    \n",
    "    \n",
    "    def powerful(self, point):\n",
    "        dist = inf \n",
    "        point = np.array(point)\n",
    "        for c in self.centr:\n",
    "            dist_p = sqrt(sum((point-c)**self.power))\n",
    "            if dist_p < dist:\n",
    "                dist = dist_p\n",
    "                cluster = c\n",
    "        return np.where(self.centr == cluster)[0][0] \n",
    "    \n",
    "\n",
    "    def optim_centr(self):\n",
    "        f = [i for i in range(self.feat)]\n",
    "        \n",
    "        if self.dist_f == 'evclid' or self.dist_f is None:\n",
    "            self.data['cluster'] = self.data.apply(lambda x: self.evclid(x.iloc[f].values.flatten().tolist()), axis=1)\n",
    "        elif self.dist_f == 'rootevclid':\n",
    "            self.data['cluster'] = self.data.apply(lambda x: self.rootevclid(x.iloc[f].values.flatten().tolist()), axis=1)\n",
    "        elif self.dist_f == 'chebyshev':\n",
    "            self.data['cluster'] = self.data.apply(lambda x: self.chebyshev(x.iloc[f].values.flatten().tolist()), axis=1)\n",
    "        elif self.dist_f == 'powerful' and self.power:\n",
    "            self.data['cluster'] = self.data.apply(lambda x: self.powerful(x.iloc[f].values.flatten().tolist()), axis=1)\n",
    "        else:\n",
    "            assert(\"Please write power for function in arg 'power'\")\n",
    "        return self.data \n",
    "    \n",
    "    \n",
    "    def new_centroid(self):\n",
    "        new_center = []\n",
    "        for k in range(self.K):\n",
    "            new_c = []\n",
    "            for f in range(self.feat):\n",
    "                c = self.data[self.data['cluster'] == k].iloc[:,f].mean()\n",
    "                if c is np.nan:\n",
    "                    new_c.append(self.data.iloc[random.randint(0, self.data.shape[0]-1), f].tolist()) \n",
    "                else:\n",
    "                    new_c.append(c)\n",
    "                \n",
    "            new_center.append(np.array(new_c))\n",
    "        return np.array(new_center)\n",
    "        \n",
    "            \n",
    "    def fit(self):\n",
    "        self.centr = self.centroid()\n",
    "        if self.iter_n:\n",
    "            for i in range(self.iter_n):\n",
    "                self.optim_centr()\n",
    "                self.centr = self.new_centroid()\n",
    "            return self.centr\n",
    "        else:\n",
    "            while True:\n",
    "                self.optim_centr()\n",
    "                new_centr = self.new_centroid()\n",
    "                if np.array_equal(new_centr, self.centr):\n",
    "                    self.data = self.data.drop(['cluster'], axis=1)\n",
    "                    return self.centr\n",
    "                else:\n",
    "                    self.centr = new_centr\n",
    "                    \n",
    "                    \n",
    "    def plot(self, x, y, y_true):\n",
    "        fig = px.scatter(self.data, x=x, y=y, color = y_true)\n",
    "        fig.add_scatter(x=self.centr[:,0], y=self.centr[:,1], mode=\"markers\", marker=dict(size=10))\n",
    "        fig.show()\n"
   ]
  },
  {
   "cell_type": "code",
   "execution_count": null,
   "id": "61de8053",
   "metadata": {},
   "outputs": [],
   "source": []
  },
  {
   "cell_type": "code",
   "execution_count": 119,
   "id": "d813984b",
   "metadata": {},
   "outputs": [
    {
     "data": {
      "application/vnd.plotly.v1+json": {
       "config": {
        "plotlyServerURL": "https://plot.ly"
       },
       "data": [
        {
         "hovertemplate": "x=%{x}<br>y=%{y}<extra></extra>",
         "legendgroup": "",
         "line": {
          "color": "#636efa",
          "dash": "solid"
         },
         "marker": {
          "symbol": "circle"
         },
         "mode": "lines",
         "name": "",
         "orientation": "v",
         "showlegend": false,
         "type": "scatter",
         "x": [
          1,
          2,
          3,
          4,
          5,
          6,
          7,
          8,
          9
         ],
         "xaxis": "x",
         "y": [
          6.328889802318369,
          4.512261042784705,
          2.810324949589854,
          2.4576813021045982,
          2.1098975850326847,
          1.976219514084086,
          1.814617804459662,
          1.7281862073314238,
          1.5949021451507421
         ],
         "yaxis": "y"
        }
       ],
       "layout": {
        "legend": {
         "tracegroupgap": 0
        },
        "margin": {
         "t": 60
        },
        "template": {
         "data": {
          "bar": [
           {
            "error_x": {
             "color": "#2a3f5f"
            },
            "error_y": {
             "color": "#2a3f5f"
            },
            "marker": {
             "line": {
              "color": "#E5ECF6",
              "width": 0.5
             },
             "pattern": {
              "fillmode": "overlay",
              "size": 10,
              "solidity": 0.2
             }
            },
            "type": "bar"
           }
          ],
          "barpolar": [
           {
            "marker": {
             "line": {
              "color": "#E5ECF6",
              "width": 0.5
             },
             "pattern": {
              "fillmode": "overlay",
              "size": 10,
              "solidity": 0.2
             }
            },
            "type": "barpolar"
           }
          ],
          "carpet": [
           {
            "aaxis": {
             "endlinecolor": "#2a3f5f",
             "gridcolor": "white",
             "linecolor": "white",
             "minorgridcolor": "white",
             "startlinecolor": "#2a3f5f"
            },
            "baxis": {
             "endlinecolor": "#2a3f5f",
             "gridcolor": "white",
             "linecolor": "white",
             "minorgridcolor": "white",
             "startlinecolor": "#2a3f5f"
            },
            "type": "carpet"
           }
          ],
          "choropleth": [
           {
            "colorbar": {
             "outlinewidth": 0,
             "ticks": ""
            },
            "type": "choropleth"
           }
          ],
          "contour": [
           {
            "colorbar": {
             "outlinewidth": 0,
             "ticks": ""
            },
            "colorscale": [
             [
              0,
              "#0d0887"
             ],
             [
              0.1111111111111111,
              "#46039f"
             ],
             [
              0.2222222222222222,
              "#7201a8"
             ],
             [
              0.3333333333333333,
              "#9c179e"
             ],
             [
              0.4444444444444444,
              "#bd3786"
             ],
             [
              0.5555555555555556,
              "#d8576b"
             ],
             [
              0.6666666666666666,
              "#ed7953"
             ],
             [
              0.7777777777777778,
              "#fb9f3a"
             ],
             [
              0.8888888888888888,
              "#fdca26"
             ],
             [
              1,
              "#f0f921"
             ]
            ],
            "type": "contour"
           }
          ],
          "contourcarpet": [
           {
            "colorbar": {
             "outlinewidth": 0,
             "ticks": ""
            },
            "type": "contourcarpet"
           }
          ],
          "heatmap": [
           {
            "colorbar": {
             "outlinewidth": 0,
             "ticks": ""
            },
            "colorscale": [
             [
              0,
              "#0d0887"
             ],
             [
              0.1111111111111111,
              "#46039f"
             ],
             [
              0.2222222222222222,
              "#7201a8"
             ],
             [
              0.3333333333333333,
              "#9c179e"
             ],
             [
              0.4444444444444444,
              "#bd3786"
             ],
             [
              0.5555555555555556,
              "#d8576b"
             ],
             [
              0.6666666666666666,
              "#ed7953"
             ],
             [
              0.7777777777777778,
              "#fb9f3a"
             ],
             [
              0.8888888888888888,
              "#fdca26"
             ],
             [
              1,
              "#f0f921"
             ]
            ],
            "type": "heatmap"
           }
          ],
          "heatmapgl": [
           {
            "colorbar": {
             "outlinewidth": 0,
             "ticks": ""
            },
            "colorscale": [
             [
              0,
              "#0d0887"
             ],
             [
              0.1111111111111111,
              "#46039f"
             ],
             [
              0.2222222222222222,
              "#7201a8"
             ],
             [
              0.3333333333333333,
              "#9c179e"
             ],
             [
              0.4444444444444444,
              "#bd3786"
             ],
             [
              0.5555555555555556,
              "#d8576b"
             ],
             [
              0.6666666666666666,
              "#ed7953"
             ],
             [
              0.7777777777777778,
              "#fb9f3a"
             ],
             [
              0.8888888888888888,
              "#fdca26"
             ],
             [
              1,
              "#f0f921"
             ]
            ],
            "type": "heatmapgl"
           }
          ],
          "histogram": [
           {
            "marker": {
             "pattern": {
              "fillmode": "overlay",
              "size": 10,
              "solidity": 0.2
             }
            },
            "type": "histogram"
           }
          ],
          "histogram2d": [
           {
            "colorbar": {
             "outlinewidth": 0,
             "ticks": ""
            },
            "colorscale": [
             [
              0,
              "#0d0887"
             ],
             [
              0.1111111111111111,
              "#46039f"
             ],
             [
              0.2222222222222222,
              "#7201a8"
             ],
             [
              0.3333333333333333,
              "#9c179e"
             ],
             [
              0.4444444444444444,
              "#bd3786"
             ],
             [
              0.5555555555555556,
              "#d8576b"
             ],
             [
              0.6666666666666666,
              "#ed7953"
             ],
             [
              0.7777777777777778,
              "#fb9f3a"
             ],
             [
              0.8888888888888888,
              "#fdca26"
             ],
             [
              1,
              "#f0f921"
             ]
            ],
            "type": "histogram2d"
           }
          ],
          "histogram2dcontour": [
           {
            "colorbar": {
             "outlinewidth": 0,
             "ticks": ""
            },
            "colorscale": [
             [
              0,
              "#0d0887"
             ],
             [
              0.1111111111111111,
              "#46039f"
             ],
             [
              0.2222222222222222,
              "#7201a8"
             ],
             [
              0.3333333333333333,
              "#9c179e"
             ],
             [
              0.4444444444444444,
              "#bd3786"
             ],
             [
              0.5555555555555556,
              "#d8576b"
             ],
             [
              0.6666666666666666,
              "#ed7953"
             ],
             [
              0.7777777777777778,
              "#fb9f3a"
             ],
             [
              0.8888888888888888,
              "#fdca26"
             ],
             [
              1,
              "#f0f921"
             ]
            ],
            "type": "histogram2dcontour"
           }
          ],
          "mesh3d": [
           {
            "colorbar": {
             "outlinewidth": 0,
             "ticks": ""
            },
            "type": "mesh3d"
           }
          ],
          "parcoords": [
           {
            "line": {
             "colorbar": {
              "outlinewidth": 0,
              "ticks": ""
             }
            },
            "type": "parcoords"
           }
          ],
          "pie": [
           {
            "automargin": true,
            "type": "pie"
           }
          ],
          "scatter": [
           {
            "fillpattern": {
             "fillmode": "overlay",
             "size": 10,
             "solidity": 0.2
            },
            "type": "scatter"
           }
          ],
          "scatter3d": [
           {
            "line": {
             "colorbar": {
              "outlinewidth": 0,
              "ticks": ""
             }
            },
            "marker": {
             "colorbar": {
              "outlinewidth": 0,
              "ticks": ""
             }
            },
            "type": "scatter3d"
           }
          ],
          "scattercarpet": [
           {
            "marker": {
             "colorbar": {
              "outlinewidth": 0,
              "ticks": ""
             }
            },
            "type": "scattercarpet"
           }
          ],
          "scattergeo": [
           {
            "marker": {
             "colorbar": {
              "outlinewidth": 0,
              "ticks": ""
             }
            },
            "type": "scattergeo"
           }
          ],
          "scattergl": [
           {
            "marker": {
             "colorbar": {
              "outlinewidth": 0,
              "ticks": ""
             }
            },
            "type": "scattergl"
           }
          ],
          "scattermapbox": [
           {
            "marker": {
             "colorbar": {
              "outlinewidth": 0,
              "ticks": ""
             }
            },
            "type": "scattermapbox"
           }
          ],
          "scatterpolar": [
           {
            "marker": {
             "colorbar": {
              "outlinewidth": 0,
              "ticks": ""
             }
            },
            "type": "scatterpolar"
           }
          ],
          "scatterpolargl": [
           {
            "marker": {
             "colorbar": {
              "outlinewidth": 0,
              "ticks": ""
             }
            },
            "type": "scatterpolargl"
           }
          ],
          "scatterternary": [
           {
            "marker": {
             "colorbar": {
              "outlinewidth": 0,
              "ticks": ""
             }
            },
            "type": "scatterternary"
           }
          ],
          "surface": [
           {
            "colorbar": {
             "outlinewidth": 0,
             "ticks": ""
            },
            "colorscale": [
             [
              0,
              "#0d0887"
             ],
             [
              0.1111111111111111,
              "#46039f"
             ],
             [
              0.2222222222222222,
              "#7201a8"
             ],
             [
              0.3333333333333333,
              "#9c179e"
             ],
             [
              0.4444444444444444,
              "#bd3786"
             ],
             [
              0.5555555555555556,
              "#d8576b"
             ],
             [
              0.6666666666666666,
              "#ed7953"
             ],
             [
              0.7777777777777778,
              "#fb9f3a"
             ],
             [
              0.8888888888888888,
              "#fdca26"
             ],
             [
              1,
              "#f0f921"
             ]
            ],
            "type": "surface"
           }
          ],
          "table": [
           {
            "cells": {
             "fill": {
              "color": "#EBF0F8"
             },
             "line": {
              "color": "white"
             }
            },
            "header": {
             "fill": {
              "color": "#C8D4E3"
             },
             "line": {
              "color": "white"
             }
            },
            "type": "table"
           }
          ]
         },
         "layout": {
          "annotationdefaults": {
           "arrowcolor": "#2a3f5f",
           "arrowhead": 0,
           "arrowwidth": 1
          },
          "autotypenumbers": "strict",
          "coloraxis": {
           "colorbar": {
            "outlinewidth": 0,
            "ticks": ""
           }
          },
          "colorscale": {
           "diverging": [
            [
             0,
             "#8e0152"
            ],
            [
             0.1,
             "#c51b7d"
            ],
            [
             0.2,
             "#de77ae"
            ],
            [
             0.3,
             "#f1b6da"
            ],
            [
             0.4,
             "#fde0ef"
            ],
            [
             0.5,
             "#f7f7f7"
            ],
            [
             0.6,
             "#e6f5d0"
            ],
            [
             0.7,
             "#b8e186"
            ],
            [
             0.8,
             "#7fbc41"
            ],
            [
             0.9,
             "#4d9221"
            ],
            [
             1,
             "#276419"
            ]
           ],
           "sequential": [
            [
             0,
             "#0d0887"
            ],
            [
             0.1111111111111111,
             "#46039f"
            ],
            [
             0.2222222222222222,
             "#7201a8"
            ],
            [
             0.3333333333333333,
             "#9c179e"
            ],
            [
             0.4444444444444444,
             "#bd3786"
            ],
            [
             0.5555555555555556,
             "#d8576b"
            ],
            [
             0.6666666666666666,
             "#ed7953"
            ],
            [
             0.7777777777777778,
             "#fb9f3a"
            ],
            [
             0.8888888888888888,
             "#fdca26"
            ],
            [
             1,
             "#f0f921"
            ]
           ],
           "sequentialminus": [
            [
             0,
             "#0d0887"
            ],
            [
             0.1111111111111111,
             "#46039f"
            ],
            [
             0.2222222222222222,
             "#7201a8"
            ],
            [
             0.3333333333333333,
             "#9c179e"
            ],
            [
             0.4444444444444444,
             "#bd3786"
            ],
            [
             0.5555555555555556,
             "#d8576b"
            ],
            [
             0.6666666666666666,
             "#ed7953"
            ],
            [
             0.7777777777777778,
             "#fb9f3a"
            ],
            [
             0.8888888888888888,
             "#fdca26"
            ],
            [
             1,
             "#f0f921"
            ]
           ]
          },
          "colorway": [
           "#636efa",
           "#EF553B",
           "#00cc96",
           "#ab63fa",
           "#FFA15A",
           "#19d3f3",
           "#FF6692",
           "#B6E880",
           "#FF97FF",
           "#FECB52"
          ],
          "font": {
           "color": "#2a3f5f"
          },
          "geo": {
           "bgcolor": "white",
           "lakecolor": "white",
           "landcolor": "#E5ECF6",
           "showlakes": true,
           "showland": true,
           "subunitcolor": "white"
          },
          "hoverlabel": {
           "align": "left"
          },
          "hovermode": "closest",
          "mapbox": {
           "style": "light"
          },
          "paper_bgcolor": "white",
          "plot_bgcolor": "#E5ECF6",
          "polar": {
           "angularaxis": {
            "gridcolor": "white",
            "linecolor": "white",
            "ticks": ""
           },
           "bgcolor": "#E5ECF6",
           "radialaxis": {
            "gridcolor": "white",
            "linecolor": "white",
            "ticks": ""
           }
          },
          "scene": {
           "xaxis": {
            "backgroundcolor": "#E5ECF6",
            "gridcolor": "white",
            "gridwidth": 2,
            "linecolor": "white",
            "showbackground": true,
            "ticks": "",
            "zerolinecolor": "white"
           },
           "yaxis": {
            "backgroundcolor": "#E5ECF6",
            "gridcolor": "white",
            "gridwidth": 2,
            "linecolor": "white",
            "showbackground": true,
            "ticks": "",
            "zerolinecolor": "white"
           },
           "zaxis": {
            "backgroundcolor": "#E5ECF6",
            "gridcolor": "white",
            "gridwidth": 2,
            "linecolor": "white",
            "showbackground": true,
            "ticks": "",
            "zerolinecolor": "white"
           }
          },
          "shapedefaults": {
           "line": {
            "color": "#2a3f5f"
           }
          },
          "ternary": {
           "aaxis": {
            "gridcolor": "white",
            "linecolor": "white",
            "ticks": ""
           },
           "baxis": {
            "gridcolor": "white",
            "linecolor": "white",
            "ticks": ""
           },
           "bgcolor": "#E5ECF6",
           "caxis": {
            "gridcolor": "white",
            "linecolor": "white",
            "ticks": ""
           }
          },
          "title": {
           "x": 0.05
          },
          "xaxis": {
           "automargin": true,
           "gridcolor": "white",
           "linecolor": "white",
           "ticks": "",
           "title": {
            "standoff": 15
           },
           "zerolinecolor": "white",
           "zerolinewidth": 2
          },
          "yaxis": {
           "automargin": true,
           "gridcolor": "white",
           "linecolor": "white",
           "ticks": "",
           "title": {
            "standoff": 15
           },
           "zerolinecolor": "white",
           "zerolinewidth": 2
          }
         }
        },
        "xaxis": {
         "anchor": "y",
         "domain": [
          0,
          1
         ],
         "title": {
          "text": "x"
         }
        },
        "yaxis": {
         "anchor": "x",
         "domain": [
          0,
          1
         ],
         "title": {
          "text": "y"
         }
        }
       }
      },
      "text/html": [
       "<div>                            <div id=\"736c96fd-9e20-4f1f-9cbc-6ae597f5b70c\" class=\"plotly-graph-div\" style=\"height:525px; width:100%;\"></div>            <script type=\"text/javascript\">                require([\"plotly\"], function(Plotly) {                    window.PLOTLYENV=window.PLOTLYENV || {};                                    if (document.getElementById(\"736c96fd-9e20-4f1f-9cbc-6ae597f5b70c\")) {                    Plotly.newPlot(                        \"736c96fd-9e20-4f1f-9cbc-6ae597f5b70c\",                        [{\"hovertemplate\":\"x=%{x}<br>y=%{y}<extra></extra>\",\"legendgroup\":\"\",\"line\":{\"color\":\"#636efa\",\"dash\":\"solid\"},\"marker\":{\"symbol\":\"circle\"},\"mode\":\"lines\",\"name\":\"\",\"orientation\":\"v\",\"showlegend\":false,\"x\":[1,2,3,4,5,6,7,8,9],\"xaxis\":\"x\",\"y\":[6.328889802318369,4.512261042784705,2.810324949589854,2.4576813021045982,2.1098975850326847,1.976219514084086,1.814617804459662,1.7281862073314238,1.5949021451507421],\"yaxis\":\"y\",\"type\":\"scatter\"}],                        {\"template\":{\"data\":{\"histogram2dcontour\":[{\"type\":\"histogram2dcontour\",\"colorbar\":{\"outlinewidth\":0,\"ticks\":\"\"},\"colorscale\":[[0.0,\"#0d0887\"],[0.1111111111111111,\"#46039f\"],[0.2222222222222222,\"#7201a8\"],[0.3333333333333333,\"#9c179e\"],[0.4444444444444444,\"#bd3786\"],[0.5555555555555556,\"#d8576b\"],[0.6666666666666666,\"#ed7953\"],[0.7777777777777778,\"#fb9f3a\"],[0.8888888888888888,\"#fdca26\"],[1.0,\"#f0f921\"]]}],\"choropleth\":[{\"type\":\"choropleth\",\"colorbar\":{\"outlinewidth\":0,\"ticks\":\"\"}}],\"histogram2d\":[{\"type\":\"histogram2d\",\"colorbar\":{\"outlinewidth\":0,\"ticks\":\"\"},\"colorscale\":[[0.0,\"#0d0887\"],[0.1111111111111111,\"#46039f\"],[0.2222222222222222,\"#7201a8\"],[0.3333333333333333,\"#9c179e\"],[0.4444444444444444,\"#bd3786\"],[0.5555555555555556,\"#d8576b\"],[0.6666666666666666,\"#ed7953\"],[0.7777777777777778,\"#fb9f3a\"],[0.8888888888888888,\"#fdca26\"],[1.0,\"#f0f921\"]]}],\"heatmap\":[{\"type\":\"heatmap\",\"colorbar\":{\"outlinewidth\":0,\"ticks\":\"\"},\"colorscale\":[[0.0,\"#0d0887\"],[0.1111111111111111,\"#46039f\"],[0.2222222222222222,\"#7201a8\"],[0.3333333333333333,\"#9c179e\"],[0.4444444444444444,\"#bd3786\"],[0.5555555555555556,\"#d8576b\"],[0.6666666666666666,\"#ed7953\"],[0.7777777777777778,\"#fb9f3a\"],[0.8888888888888888,\"#fdca26\"],[1.0,\"#f0f921\"]]}],\"heatmapgl\":[{\"type\":\"heatmapgl\",\"colorbar\":{\"outlinewidth\":0,\"ticks\":\"\"},\"colorscale\":[[0.0,\"#0d0887\"],[0.1111111111111111,\"#46039f\"],[0.2222222222222222,\"#7201a8\"],[0.3333333333333333,\"#9c179e\"],[0.4444444444444444,\"#bd3786\"],[0.5555555555555556,\"#d8576b\"],[0.6666666666666666,\"#ed7953\"],[0.7777777777777778,\"#fb9f3a\"],[0.8888888888888888,\"#fdca26\"],[1.0,\"#f0f921\"]]}],\"contourcarpet\":[{\"type\":\"contourcarpet\",\"colorbar\":{\"outlinewidth\":0,\"ticks\":\"\"}}],\"contour\":[{\"type\":\"contour\",\"colorbar\":{\"outlinewidth\":0,\"ticks\":\"\"},\"colorscale\":[[0.0,\"#0d0887\"],[0.1111111111111111,\"#46039f\"],[0.2222222222222222,\"#7201a8\"],[0.3333333333333333,\"#9c179e\"],[0.4444444444444444,\"#bd3786\"],[0.5555555555555556,\"#d8576b\"],[0.6666666666666666,\"#ed7953\"],[0.7777777777777778,\"#fb9f3a\"],[0.8888888888888888,\"#fdca26\"],[1.0,\"#f0f921\"]]}],\"surface\":[{\"type\":\"surface\",\"colorbar\":{\"outlinewidth\":0,\"ticks\":\"\"},\"colorscale\":[[0.0,\"#0d0887\"],[0.1111111111111111,\"#46039f\"],[0.2222222222222222,\"#7201a8\"],[0.3333333333333333,\"#9c179e\"],[0.4444444444444444,\"#bd3786\"],[0.5555555555555556,\"#d8576b\"],[0.6666666666666666,\"#ed7953\"],[0.7777777777777778,\"#fb9f3a\"],[0.8888888888888888,\"#fdca26\"],[1.0,\"#f0f921\"]]}],\"mesh3d\":[{\"type\":\"mesh3d\",\"colorbar\":{\"outlinewidth\":0,\"ticks\":\"\"}}],\"scatter\":[{\"fillpattern\":{\"fillmode\":\"overlay\",\"size\":10,\"solidity\":0.2},\"type\":\"scatter\"}],\"parcoords\":[{\"type\":\"parcoords\",\"line\":{\"colorbar\":{\"outlinewidth\":0,\"ticks\":\"\"}}}],\"scatterpolargl\":[{\"type\":\"scatterpolargl\",\"marker\":{\"colorbar\":{\"outlinewidth\":0,\"ticks\":\"\"}}}],\"bar\":[{\"error_x\":{\"color\":\"#2a3f5f\"},\"error_y\":{\"color\":\"#2a3f5f\"},\"marker\":{\"line\":{\"color\":\"#E5ECF6\",\"width\":0.5},\"pattern\":{\"fillmode\":\"overlay\",\"size\":10,\"solidity\":0.2}},\"type\":\"bar\"}],\"scattergeo\":[{\"type\":\"scattergeo\",\"marker\":{\"colorbar\":{\"outlinewidth\":0,\"ticks\":\"\"}}}],\"scatterpolar\":[{\"type\":\"scatterpolar\",\"marker\":{\"colorbar\":{\"outlinewidth\":0,\"ticks\":\"\"}}}],\"histogram\":[{\"marker\":{\"pattern\":{\"fillmode\":\"overlay\",\"size\":10,\"solidity\":0.2}},\"type\":\"histogram\"}],\"scattergl\":[{\"type\":\"scattergl\",\"marker\":{\"colorbar\":{\"outlinewidth\":0,\"ticks\":\"\"}}}],\"scatter3d\":[{\"type\":\"scatter3d\",\"line\":{\"colorbar\":{\"outlinewidth\":0,\"ticks\":\"\"}},\"marker\":{\"colorbar\":{\"outlinewidth\":0,\"ticks\":\"\"}}}],\"scattermapbox\":[{\"type\":\"scattermapbox\",\"marker\":{\"colorbar\":{\"outlinewidth\":0,\"ticks\":\"\"}}}],\"scatterternary\":[{\"type\":\"scatterternary\",\"marker\":{\"colorbar\":{\"outlinewidth\":0,\"ticks\":\"\"}}}],\"scattercarpet\":[{\"type\":\"scattercarpet\",\"marker\":{\"colorbar\":{\"outlinewidth\":0,\"ticks\":\"\"}}}],\"carpet\":[{\"aaxis\":{\"endlinecolor\":\"#2a3f5f\",\"gridcolor\":\"white\",\"linecolor\":\"white\",\"minorgridcolor\":\"white\",\"startlinecolor\":\"#2a3f5f\"},\"baxis\":{\"endlinecolor\":\"#2a3f5f\",\"gridcolor\":\"white\",\"linecolor\":\"white\",\"minorgridcolor\":\"white\",\"startlinecolor\":\"#2a3f5f\"},\"type\":\"carpet\"}],\"table\":[{\"cells\":{\"fill\":{\"color\":\"#EBF0F8\"},\"line\":{\"color\":\"white\"}},\"header\":{\"fill\":{\"color\":\"#C8D4E3\"},\"line\":{\"color\":\"white\"}},\"type\":\"table\"}],\"barpolar\":[{\"marker\":{\"line\":{\"color\":\"#E5ECF6\",\"width\":0.5},\"pattern\":{\"fillmode\":\"overlay\",\"size\":10,\"solidity\":0.2}},\"type\":\"barpolar\"}],\"pie\":[{\"automargin\":true,\"type\":\"pie\"}]},\"layout\":{\"autotypenumbers\":\"strict\",\"colorway\":[\"#636efa\",\"#EF553B\",\"#00cc96\",\"#ab63fa\",\"#FFA15A\",\"#19d3f3\",\"#FF6692\",\"#B6E880\",\"#FF97FF\",\"#FECB52\"],\"font\":{\"color\":\"#2a3f5f\"},\"hovermode\":\"closest\",\"hoverlabel\":{\"align\":\"left\"},\"paper_bgcolor\":\"white\",\"plot_bgcolor\":\"#E5ECF6\",\"polar\":{\"bgcolor\":\"#E5ECF6\",\"angularaxis\":{\"gridcolor\":\"white\",\"linecolor\":\"white\",\"ticks\":\"\"},\"radialaxis\":{\"gridcolor\":\"white\",\"linecolor\":\"white\",\"ticks\":\"\"}},\"ternary\":{\"bgcolor\":\"#E5ECF6\",\"aaxis\":{\"gridcolor\":\"white\",\"linecolor\":\"white\",\"ticks\":\"\"},\"baxis\":{\"gridcolor\":\"white\",\"linecolor\":\"white\",\"ticks\":\"\"},\"caxis\":{\"gridcolor\":\"white\",\"linecolor\":\"white\",\"ticks\":\"\"}},\"coloraxis\":{\"colorbar\":{\"outlinewidth\":0,\"ticks\":\"\"}},\"colorscale\":{\"sequential\":[[0.0,\"#0d0887\"],[0.1111111111111111,\"#46039f\"],[0.2222222222222222,\"#7201a8\"],[0.3333333333333333,\"#9c179e\"],[0.4444444444444444,\"#bd3786\"],[0.5555555555555556,\"#d8576b\"],[0.6666666666666666,\"#ed7953\"],[0.7777777777777778,\"#fb9f3a\"],[0.8888888888888888,\"#fdca26\"],[1.0,\"#f0f921\"]],\"sequentialminus\":[[0.0,\"#0d0887\"],[0.1111111111111111,\"#46039f\"],[0.2222222222222222,\"#7201a8\"],[0.3333333333333333,\"#9c179e\"],[0.4444444444444444,\"#bd3786\"],[0.5555555555555556,\"#d8576b\"],[0.6666666666666666,\"#ed7953\"],[0.7777777777777778,\"#fb9f3a\"],[0.8888888888888888,\"#fdca26\"],[1.0,\"#f0f921\"]],\"diverging\":[[0,\"#8e0152\"],[0.1,\"#c51b7d\"],[0.2,\"#de77ae\"],[0.3,\"#f1b6da\"],[0.4,\"#fde0ef\"],[0.5,\"#f7f7f7\"],[0.6,\"#e6f5d0\"],[0.7,\"#b8e186\"],[0.8,\"#7fbc41\"],[0.9,\"#4d9221\"],[1,\"#276419\"]]},\"xaxis\":{\"gridcolor\":\"white\",\"linecolor\":\"white\",\"ticks\":\"\",\"title\":{\"standoff\":15},\"zerolinecolor\":\"white\",\"automargin\":true,\"zerolinewidth\":2},\"yaxis\":{\"gridcolor\":\"white\",\"linecolor\":\"white\",\"ticks\":\"\",\"title\":{\"standoff\":15},\"zerolinecolor\":\"white\",\"automargin\":true,\"zerolinewidth\":2},\"scene\":{\"xaxis\":{\"backgroundcolor\":\"#E5ECF6\",\"gridcolor\":\"white\",\"linecolor\":\"white\",\"showbackground\":true,\"ticks\":\"\",\"zerolinecolor\":\"white\",\"gridwidth\":2},\"yaxis\":{\"backgroundcolor\":\"#E5ECF6\",\"gridcolor\":\"white\",\"linecolor\":\"white\",\"showbackground\":true,\"ticks\":\"\",\"zerolinecolor\":\"white\",\"gridwidth\":2},\"zaxis\":{\"backgroundcolor\":\"#E5ECF6\",\"gridcolor\":\"white\",\"linecolor\":\"white\",\"showbackground\":true,\"ticks\":\"\",\"zerolinecolor\":\"white\",\"gridwidth\":2}},\"shapedefaults\":{\"line\":{\"color\":\"#2a3f5f\"}},\"annotationdefaults\":{\"arrowcolor\":\"#2a3f5f\",\"arrowhead\":0,\"arrowwidth\":1},\"geo\":{\"bgcolor\":\"white\",\"landcolor\":\"#E5ECF6\",\"subunitcolor\":\"white\",\"showland\":true,\"showlakes\":true,\"lakecolor\":\"white\"},\"title\":{\"x\":0.05},\"mapbox\":{\"style\":\"light\"}}},\"xaxis\":{\"anchor\":\"y\",\"domain\":[0.0,1.0],\"title\":{\"text\":\"x\"}},\"yaxis\":{\"anchor\":\"x\",\"domain\":[0.0,1.0],\"title\":{\"text\":\"y\"}},\"legend\":{\"tracegroupgap\":0},\"margin\":{\"t\":60}},                        {\"responsive\": true}                    ).then(function(){\n",
       "                            \n",
       "var gd = document.getElementById('736c96fd-9e20-4f1f-9cbc-6ae597f5b70c');\n",
       "var x = new MutationObserver(function (mutations, observer) {{\n",
       "        var display = window.getComputedStyle(gd).display;\n",
       "        if (!display || display === 'none') {{\n",
       "            console.log([gd, 'removed!']);\n",
       "            Plotly.purge(gd);\n",
       "            observer.disconnect();\n",
       "        }}\n",
       "}});\n",
       "\n",
       "// Listen for the removal of the full notebook cells\n",
       "var notebookContainer = gd.closest('#notebook-container');\n",
       "if (notebookContainer) {{\n",
       "    x.observe(notebookContainer, {childList: true});\n",
       "}}\n",
       "\n",
       "// Listen for the clearing of the current output cell\n",
       "var outputEl = gd.closest('.output');\n",
       "if (outputEl) {{\n",
       "    x.observe(outputEl, {childList: true});\n",
       "}}\n",
       "\n",
       "                        })                };                });            </script>        </div>"
      ]
     },
     "metadata": {},
     "output_type": "display_data"
    }
   ],
   "source": [
    "distortions = []\n",
    "for k in range(1, 10):\n",
    "    # Building and fitting the model\n",
    "    kmeanModel =  K_means(k, df, 2)\n",
    "    kmeanModel.fit()\n",
    "  \n",
    "    distortions.append(sum(np.min(cdist(df, kmeanModel.centr,\n",
    "                                        'euclidean'), axis=1)) / df.shape[0])\n",
    "fi = px.line(x=[i for i in range(1,10)], y=distortions)\n",
    "fi.show()"
   ]
  },
  {
   "cell_type": "code",
   "execution_count": 126,
   "id": "09d605ce",
   "metadata": {},
   "outputs": [],
   "source": [
    "k_mean = K_means(4, df, 2)\n",
    "k_mean.fit();"
   ]
  },
  {
   "cell_type": "code",
   "execution_count": 127,
   "id": "c08f2371",
   "metadata": {},
   "outputs": [
    {
     "data": {
      "application/vnd.plotly.v1+json": {
       "config": {
        "plotlyServerURL": "https://plot.ly"
       },
       "data": [
        {
         "hovertemplate": "color=rose<br>petals=%{x}<br>petals_count=%{y}<extra></extra>",
         "legendgroup": "rose",
         "marker": {
          "color": "#636efa",
          "symbol": "circle"
         },
         "mode": "markers",
         "name": "rose",
         "orientation": "v",
         "showlegend": true,
         "type": "scatter",
         "x": [
          2.813820337891017,
          4.758918230950764,
          5.957010865163419,
          1.8848687900429613,
          5.5304253568518575,
          4.848494957506236,
          8.172420513349907,
          5.05511770298555,
          3.04197947002993,
          5.305198128091331,
          2.172155748624356,
          7.00280521857043,
          5.645264006602336,
          3.439763014620431,
          3.6437168037269383,
          4.264824524793427,
          10.089077192397006,
          6.947963801572535,
          1.3446987202220089,
          3.7119971042242437,
          3.878213593127726,
          4.070339109414154,
          4.642997244239807,
          2.8160465118759888,
          5.165047609125213,
          7.323017278888118,
          1.049146572354163,
          4.206406035054261,
          5.188769142539044,
          4.670115897650484,
          5.522100134198854,
          4.72462142207894,
          3.626575126707206,
          6.958570825239121,
          2.534118567885991,
          4.6450898462960915,
          7.78511776316568,
          2.9002172434215074,
          4.337143100413938,
          4.505888733558034,
          7.287457770828709,
          4.149323797869165,
          6.266023468774794,
          5.065800187762358,
          8.274106787834974,
          2.467110598823089,
          0.9274960557046841,
          3.7303715681541374,
          7.844729277007753,
          2.8631204383278304,
          6.506445418453115,
          4.254088310742397,
          2.8637084204994228,
          1.0115864443971572,
          4.441482750038339,
          5.8355046650889335,
          5.38290024831104,
          6.7920159688041135,
          2.4859820397019905,
          2.0218825339366,
          5.054833204471913,
          3.5289339006330764,
          8.650029081808302,
          5.479374788398151,
          5.472268239028881,
          2.14111673901729,
          7.632222650136345,
          3.5812838308379895,
          3.0091202577339207,
          1.070998786572094,
          5.521874971487909,
          8.35977669116858,
          4.613704532986755,
          5.566329321460353,
          3.0202100421194786,
          7.799070806413855,
          3.094111371768359,
          4.43095700460829,
          6.634660431737544,
          5.951594266723985,
          1.1307635172890733,
          3.901193799046874,
          2.804164734854507,
          2.9114649445943845,
          5.088874062628072,
          -0.2960772835161478,
          6.876707146334617,
          1.791451396134002,
          4.396235791156361,
          3.5014371306101184,
          4.820604503686765,
          3.206507147658442,
          0.5278293370271041,
          3.232304496203777,
          2.9889468246670536,
          5.734036785213396,
          2.565461867776746,
          5.558241129104525,
          3.217412196397938,
          3.834650991513352,
          3.854215820998566,
          5.006424266761077,
          4.076865527981652,
          6.143367051806203,
          2.0290893902906504,
          3.3163968279018734,
          6.5595060246136105,
          9.442886613060871,
          2.3745473756985915,
          6.395153648123491,
          7.434185582814212,
          5.354572159858011,
          1.8959004542299374,
          4.993948977767706,
          4.982547153464417,
          7.497497261628574,
          2.621436221427092,
          4.660338442211569,
          1.2484925744273028,
          3.966570292383756,
          8.028362902042202,
          3.9100778833738072,
          8.237748392715066,
          5.874479183260826,
          4.079102133495679,
          5.4007015823780025,
          4.3678753904493375,
          5.220032739314342,
          7.594314821861909,
          5.871301285502615,
          5.829183062155425,
          7.703433777688948,
          2.9139269297332895,
          6.574589556548189,
          4.410206770526093,
          1.952181417059767,
          4.064988152761301,
          0.7680562766398582,
          2.527588777874559,
          5.568860719699084
         ],
         "xaxis": "x",
         "y": [
          36.235939389912645,
          5.332751372727717,
          26.40016950698233,
          15.914858358903112,
          0.9959115200989146,
          -3.2716714524756334,
          14.502786639813385,
          24.394134115738453,
          16.84434076830724,
          -1.644786266266884,
          4.054906817679594,
          15.436870410270146,
          24.653219274577133,
          17.129749502361,
          -5.404283128624385,
          21.54114661819982,
          17.484227243110837,
          6.335723990861666,
          25.037584082169907,
          17.447870972663228,
          26.922507165782513,
          27.15578011562769,
          19.44181944826134,
          -0.17168390031794978,
          16.903109051766553,
          2.762647529459292,
          17.069543338731975,
          15.632833196169512,
          25.54874846426634,
          11.869617980390444,
          15.298097811585306,
          19.26435296915395,
          25.060328156791435,
          4.865154303628161,
          2.6053969797957155,
          17.95595366365031,
          3.5983680371655,
          17.621817026513828,
          17.51378294274084,
          25.100486197080485,
          18.43315634498642,
          19.171329246124685,
          30.240658352256784,
          9.514687065966367,
          21.414865000424193,
          22.49129818202611,
          16.169239530222317,
          14.139660360105006,
          9.69294396401281,
          21.27937370107943,
          22.506974720956194,
          23.66121982998913,
          19.445468305466257,
          20.934938643402354,
          19.065755295037825,
          15.523002462941594,
          17.40500559941506,
          7.898492630334719,
          28.22867730696679,
          -2.4643437667098986,
          2.978979832576144,
          14.095862193571447,
          31.975006060269923,
          12.698309826088446,
          17.491048433358372,
          12.76394102989115,
          17.153876515698098,
          4.641035467351415,
          -0.4900863459762004,
          10.068337539407057,
          25.291769135877672,
          7.906431653849406,
          -0.04898679927642213,
          34.79093085981587,
          13.77836250821691,
          5.169898367464654,
          9.055948010508,
          26.501687472582983,
          11.21535769836422,
          19.608284617181386,
          18.13113948604839,
          15.392515029141771,
          13.518160939970342,
          12.42704936349351,
          14.238250406552908,
          13.006608743174464,
          3.0020822880349307,
          1.9175152761862808,
          15.84514634094888,
          25.55107889781506,
          16.573704443286896,
          17.08508630106533,
          5.353186588041611,
          17.170627820320224,
          18.358665160402094,
          19.61094556837079,
          5.471990954283672,
          19.242688319138985,
          -6.37488550664683,
          6.256728539259964,
          22.741213449653202,
          17.62843412332954,
          24.659091378942584,
          7.960509700303541,
          8.600797194998272,
          8.674781555245316,
          4.878989367871027,
          -0.07534258831302054,
          11.999237890472678,
          17.35073415975355,
          10.69842491806872,
          14.333938377480164,
          5.2297931784865614,
          22.77850699646848,
          15.3609903767904,
          21.407001599800523,
          19.932697714629704,
          13.871737953512515,
          32.558740843212945,
          0.6896964083365518,
          19.691619812101536,
          -0.2103305852001185,
          12.970716894933663,
          11.328713974416875,
          16.337692650420472,
          18.115214029672323,
          7.527385970585036,
          14.052857662288327,
          17.585469444000747,
          12.599017039933376,
          22.269094543574326,
          23.2463846916169,
          6.669437287922214,
          19.332766114213,
          7.437910925507062,
          7.6935689987926725,
          16.765572888989908,
          2.445107325659455,
          18.92258775650147,
          32.30516629317428
         ],
         "yaxis": "y"
        },
        {
         "hovertemplate": "color=tulpan<br>petals=%{x}<br>petals_count=%{y}<extra></extra>",
         "legendgroup": "tulpan",
         "marker": {
          "color": "#EF553B",
          "symbol": "circle"
         },
         "mode": "markers",
         "name": "tulpan",
         "orientation": "v",
         "showlegend": true,
         "type": "scatter",
         "x": [
          4.697785468439382,
          4.24662378016334,
          5.580912140380187,
          4.039056242313737,
          4.6169050548199735,
          2.2478117517573954,
          5.390771036430068,
          5.909199082169321,
          0.45443292042472505,
          3.239880270281668,
          3.0251889555097145,
          3.5410684700729806,
          4.410425729562005,
          1.4686870786232893,
          2.113082995890603,
          3.475674440306828,
          1.4655187383129982,
          5.382328445365472,
          4.302288924777313,
          5.647509422038439,
          5.184180975663498,
          3.621543747573532,
          6.084971957423064,
          4.547352869246774,
          6.36822923120271,
          3.3028472181334756,
          6.772340923509636,
          3.007105907909125,
          4.159843943854482,
          4.997529819390384,
          4.399422526025879,
          2.9217892779558348,
          2.3541780136470645,
          8.03040111735963,
          3.24036855986383,
          0.3558519862393763,
          5.279540719272195,
          3.2581384029893243,
          3.0252376984211073,
          6.676413837838573,
          3.8035825021429233,
          3.481860886594516,
          4.661118867471803,
          4.045863066086348,
          2.2749467494085183,
          0.5474600399892009,
          5.637598090476114,
          5.007407227204279,
          2.4796356864435443,
          1.8960732888955611,
          5.516478143596631,
          3.56641227830793,
          0.19136936839494334,
          5.152512047218655,
          3.8486349578271994,
          3.4164484231230006,
          3.743243310106321,
          6.10741375237336,
          4.010419928674012,
          3.5047793683925645,
          5.844424106942824,
          2.965819549255541,
          4.633133460714291,
          2.044844809711549,
          2.817041741313034,
          4.134726772207938,
          4.852353304026252,
          4.464815813970017,
          5.07968955895722,
          6.440395357679975,
          4.362516039223103,
          4.471686369366239,
          4.895624775807116,
          4.406620856380068,
          3.0554515253951045,
          5.711862803487515,
          4.34446263322035,
          2.943334052424347,
          3.879242419020856,
          2.885896345020618,
          0.9705562092556366,
          5.485777868779199,
          4.889725089725399,
          4.713893640782344,
          4.817156818814895,
          4.9741555825308765,
          6.168445783657013,
          3.671990244268763,
          3.586096699120362,
          2.6248674519963604,
          5.863709585184422,
          2.499301834832341,
          1.1504697566096622,
          2.7350629360041854,
          6.927177970193216,
          1.849863393029381,
          7.062441436126882,
          2.1027343695897605,
          2.1066858610320467,
          2.576184813853532,
          4.262765496147146,
          2.0852485272549703,
          5.273346814157499,
          3.39480956268125,
          1.7459461910255163,
          4.1050032465656,
          5.940870861986124,
          4.6991100718120755,
          4.6988631930569,
          4.1252421376174615,
          5.885013619137085,
          3.487093347319082,
          4.619972083634532,
          2.4385584097362396,
          5.689904863266606,
          6.045756957396816,
          5.115029933059496,
          4.678973610630831,
          0.4705736790589148,
          4.3753830758357575
         ],
         "xaxis": "x",
         "y": [
          5.941511620707933,
          3.7763086427054833,
          7.484603648138739,
          6.490410532224571,
          5.324550507614418,
          5.7198168719534515,
          5.3577618811525305,
          4.354823299518149,
          5.8592821448190655,
          6.9185528683603295,
          7.246181045066292,
          7.140048789585382,
          5.752246493315619,
          4.070619201934042,
          5.418642235398658,
          6.296084108860855,
          6.743905480145964,
          5.723545782710833,
          6.1972987226048355,
          4.797808546578134,
          6.907318363817199,
          6.010579277307058,
          4.965445083895278,
          6.015373059819447,
          7.001051153444429,
          5.704899058340382,
          5.969843887556263,
          5.324327202572187,
          4.7170833973701525,
          7.084674648239554,
          5.749897100886866,
          6.188966091088549,
          7.981850758519237,
          5.495645071667916,
          6.736023285993144,
          5.969543933454975,
          6.845122706163863,
          5.884007467328823,
          4.219032091511568,
          4.638011739287256,
          5.493220593251319,
          6.274995669652903,
          8.36429028073022,
          6.140804836420946,
          7.3139254372377644,
          6.139538428276538,
          6.430705971697203,
          5.317317136282305,
          5.542249813043015,
          4.2087021181444175,
          5.050755205768177,
          4.645947048694005,
          6.066469691171805,
          6.3357707360004305,
          5.760676832620206,
          4.970687009546,
          5.59169660347382,
          7.668200144093641,
          4.021486755589452,
          4.7415483919385615,
          6.268298688821243,
          4.9164549147911725,
          5.951808527754293,
          7.180516070288128,
          7.515631950093582,
          3.9027772746581832,
          4.9774302025036326,
          6.578821754994413,
          6.140536435904821,
          6.640242003512003,
          6.021586642263877,
          5.1361773888990365,
          6.2956196019562425,
          3.7249340291971533,
          5.788908814958093,
          5.712588506614707,
          4.733567696547766,
          5.014140878961085,
          5.47397240895596,
          5.19373046251938,
          5.464796885918323,
          6.145151266418472,
          7.112459585450941,
          6.940153995084756,
          6.547275188805546,
          6.742351755230067,
          6.3931956589669054,
          7.388322616242096,
          7.293139366883873,
          5.934958955860726,
          6.03368902326461,
          4.518643003605659,
          4.543002548327182,
          6.9023118710605,
          6.077647241636006,
          5.174831678282632,
          5.839664204422815,
          5.262065073328166,
          5.450365628275465,
          6.409847465596277,
          6.321051269476808,
          6.720654942458367,
          6.44762706781294,
          6.650432280653389,
          5.722779937910434,
          5.9272136824165385,
          7.264190828965993,
          6.316736470793313,
          4.695561294633375,
          7.257871660326457,
          6.371515865779512,
          6.148766878137203,
          4.816295411483001,
          7.135240658034242,
          6.468170782552062,
          7.204664027302474,
          6.419329578329075,
          4.377735309684814,
          6.0970268954524665,
          6.869263000156929
         ],
         "yaxis": "y"
        },
        {
         "hovertemplate": "color=gladiolus<br>petals=%{x}<br>petals_count=%{y}<extra></extra>",
         "legendgroup": "gladiolus",
         "marker": {
          "color": "#00cc96",
          "symbol": "circle"
         },
         "mode": "markers",
         "name": "gladiolus",
         "orientation": "v",
         "showlegend": true,
         "type": "scatter",
         "x": [
          11.945458122556843,
          9.850452839618402,
          13.913338229072403,
          12.12095784353036,
          14.232835769172553,
          12.584021802270076,
          11.287721164179095,
          14.143945765219359,
          10.811399989414461,
          14.062580830286453,
          12.909419854905735,
          14.87175497467193,
          12.228298028689618,
          11.232789094659777,
          10.399031479691402,
          13.230266125827711,
          10.950739291653488,
          13.283120858277067,
          16.532696196075573,
          15.744029773503572,
          13.345342442181453,
          16.534808791460065,
          15.693335289977943,
          11.79104136579445,
          14.622977487986278,
          12.747202449281959,
          15.76927266394463,
          17.356074349671204,
          13.1590637993974,
          15.150405798203142,
          13.586345050811099,
          12.979498053716469,
          8.053915167562398,
          6.549723068341584,
          11.023684621928371,
          12.055024619030723,
          8.687236708928992,
          15.116889156375096,
          12.001163020397538,
          13.160264300915852,
          15.819882076072322,
          11.161192714085322,
          11.891947424849523,
          10.724379376679634,
          12.316912502763785,
          11.401816417386318,
          10.590770918933229,
          14.881629373221953,
          14.65048984293895,
          11.064713498660876,
          11.805470862401025,
          14.788407929006063,
          14.77131257075964,
          11.462660934503084,
          10.843241293762295,
          12.454868773686,
          15.242594164604787,
          11.851936592800284,
          9.966323680240157,
          11.772529797186223,
          11.280232517565999,
          12.266128941548375,
          10.47615781573813,
          13.97606961676666,
          9.80702984068277,
          12.351490491123506,
          13.467400806468593,
          8.759801717455197,
          12.807914386279382,
          15.610558612259384,
          12.817800171572928,
          9.894109422448164,
          14.202257922937115,
          13.263818584335578,
          12.761696405109765,
          12.925721053127923,
          13.423851943463902,
          12.848471185171006,
          14.008811496978337,
          11.544203944985686,
          13.932564877218685,
          12.800354354409626,
          16.565292848888703,
          15.766387370243251,
          12.014306248266939,
          15.752104293192783,
          14.37932904725208,
          14.555955408948634,
          11.554533880860866,
          12.651339985537078,
          13.605081475606939,
          10.945495174908952,
          9.00461930056434,
          10.850394207407712,
          15.916641040945992,
          13.969440352820525,
          16.405616019659433,
          15.865518420053125,
          8.714246251261816,
          8.23774067506956
         ],
         "xaxis": "x",
         "y": [
          5.4843285293190025,
          5.386792585625325,
          5.73787495963005,
          5.454969459738018,
          6.702810571802072,
          6.100405832499999,
          5.979933390262872,
          6.333242487491007,
          5.496229966650921,
          5.746756888165396,
          5.8631040404812325,
          5.939197476486894,
          5.527100958823397,
          5.636858706526995,
          5.186371848942573,
          6.428289516229419,
          5.904148523013469,
          5.543957694483499,
          5.681941081144489,
          5.296531849476097,
          6.257909471342671,
          5.518259544176661,
          5.387872014324001,
          5.999855339856684,
          5.776665886579592,
          6.820837283486688,
          6.780954565157812,
          5.684204163162981,
          7.351575036002931,
          6.1086165691823595,
          5.575265600649804,
          6.294419850030563,
          6.147767633959461,
          4.883267216868544,
          5.642376965165718,
          6.548123260566331,
          5.643791174058986,
          5.962282584374276,
          6.926838764948922,
          5.3434526095460795,
          7.1708994136136335,
          6.947784652234746,
          5.677707388944402,
          5.660439163805055,
          5.307734994500942,
          6.549704823762742,
          6.352057622446631,
          5.6097832726664345,
          6.593656495842519,
          5.944880071486677,
          5.983353688083474,
          5.477862147550499,
          6.992817083722395,
          5.595529339234254,
          6.415826803371717,
          5.703659134203706,
          6.238448393949742,
          5.596492245547731,
          5.548296702554923,
          5.684224697655867,
          5.620936529825991,
          5.826519893219811,
          5.476253058868848,
          5.336379621020881,
          6.656959682431427,
          7.0643655533987015,
          6.552160639822292,
          7.621712106103149,
          5.826184904122022,
          6.416221163415195,
          5.534489613951687,
          6.006767852766229,
          5.941645666756607,
          5.6094142069615645,
          5.424928970116252,
          6.33786793198762,
          5.046270824628155,
          6.401587101392589,
          6.374196281077983,
          6.476911520012573,
          6.382177633496798,
          5.82055966114857,
          5.803009364445471,
          7.130179794724495,
          6.285676918310996,
          5.64935416885136,
          5.986399933888666,
          5.537393585000321,
          5.537749171182206,
          5.048763684688004,
          6.921572683394927,
          6.1592028978300375,
          5.711940306375206,
          5.834914905816305,
          5.491528574430125,
          6.263837936932212,
          6.281202611527716,
          5.8238454916755975,
          5.185991344622582,
          6.0782542792384655
         ],
         "yaxis": "y"
        },
        {
         "hovertemplate": "color=fialk<br>petals=%{x}<br>petals_count=%{y}<extra></extra>",
         "legendgroup": "fialk",
         "marker": {
          "color": "#ab63fa",
          "symbol": "circle"
         },
         "mode": "markers",
         "name": "fialk",
         "orientation": "v",
         "showlegend": true,
         "type": "scatter",
         "x": [
          2.79033997588167,
          0.2810773856408877,
          0.20589890700365943,
          1.6816473100069598,
          2.3754717258525915,
          1.7054145290466174,
          1.8273530570168246,
          2.0081349463718086,
          2.0102933128898264,
          1.6326448881107143,
          2.798536486526415,
          -0.5205819430331706,
          2.4816931119206163,
          1.4519944729069811,
          0.8857519697686709,
          0.6601482555874851,
          1.1882888148038329,
          2.3326878434568306,
          1.7411174510289693,
          0.4988538524883195,
          0.9260752473140188,
          2.862599266981073,
          2.0768498040606156,
          2.078109350764348,
          1.0872867879101973,
          2.2066039195115286,
          1.1617102284799647,
          0.08644457467278666,
          1.720522143353562,
          0.7220797092318239,
          0.610499056672853,
          0.902707499264685,
          2.088186984378014,
          1.0741980922261685,
          1.8476880026926956,
          0.43241135997471014,
          2.158160032240094,
          2.267023910895695,
          0.6630993062195808,
          2.096935623950653,
          2.6245151511073983,
          0.3501628513955273,
          0.44331839247572,
          1.9234075791709213,
          2.551126893977954,
          2.3236864047633086,
          2.6357000953491614,
          1.6991972776305473,
          1.9161007892395154,
          -0.18456832192220918,
          3.3065326905607693,
          3.6198914946336944,
          1.5417380585366767,
          2.8224908731339724,
          2.5811353717901517,
          1.6347891142383424,
          1.574897809281529,
          2.3282789352705473,
          2.217224536797102,
          2.9489149828625885,
          0.5952257916562539,
          2.4485762416670265,
          3.3292317062277554,
          1.4307372019519549,
          1.7190842635272703,
          1.1314211698698742,
          1.9853687068261672,
          2.3408236540747733,
          0.4902822306637682,
          1.8039453166509996,
          4.068964969914873,
          1.1570892542113884,
          1.0079166380628473,
          2.409426495218395,
          1.7744317496643869,
          0.0568228729086222,
          3.092931566816231,
          1.1636090995573607,
          -0.32132248326077817,
          1.327802555107894,
          1.2412514833887824,
          1.1710003171167083,
          -1.3157248704314637,
          1.4869787936011847,
          1.5121768804845752,
          2.330544560655656,
          2.0284047227760555,
          1.2824396545405528,
          1.078477722373261,
          1.4487845951327705,
          0.12332220109650671,
          0.7493268842967269,
          2.880258327938188,
          0.6224454207473101,
          0.9600978090099112,
          0.9950616753677979,
          1.9707861542731608,
          0.1561621510034621,
          0.9943946366569926,
          1.8589304912550966,
          -0.32081966891181923,
          2.780232315263313,
          1.1101192454011375,
          1.636960864525545,
          2.1687041174109947,
          2.112960897223007,
          2.5677956624156595,
          0.6592837892116219,
          1.940141623188771,
          0.6214866948759228,
          0.666423644156116,
          2.7154155982917905,
          1.385443195124354,
          2.8725130825163534,
          0.26249761904510827,
          -0.5956677153198147,
          3.249075973266214,
          0.3196326871283357,
          3.198606328315014,
          1.645192723744557
         ],
         "xaxis": "x",
         "y": [
          10.295575958492181,
          8.059071084107227,
          8.782460064098021,
          8.444094336717031,
          7.132118837004621,
          6.201358829801712,
          8.681977821800533,
          7.673090544418601,
          8.21292255324113,
          9.522310855533465,
          7.456985553159726,
          5.571618199535552,
          6.548845883582054,
          8.637657221745414,
          7.636200093661147,
          6.600613647120082,
          6.789848244054185,
          7.7454155413867305,
          5.658095145716046,
          8.208314307154998,
          4.698549570524504,
          5.970139304969788,
          8.147486290543016,
          4.747829566278813,
          7.208872425620942,
          8.830507716339833,
          8.495071594416922,
          4.84870112652713,
          9.201932401172117,
          7.16552329004275,
          7.2204639061369855,
          9.308798219710111,
          9.142401799442606,
          7.656465850395915,
          6.584369969083573,
          7.673742130310812,
          9.244560097126472,
          7.68137711982993,
          6.099542895961774,
          9.122840772179003,
          6.762909917089076,
          9.644370914080195,
          10.403731888737632,
          7.86936288497879,
          8.386785753634356,
          6.69860449635238,
          8.515908322410217,
          9.798899277817986,
          6.8453612603034575,
          8.202553912263014,
          7.758271493979163,
          8.985929018415824,
          6.996850779108907,
          8.424701356757053,
          6.686624893556623,
          7.652254016131024,
          7.729412733145367,
          5.06442493817914,
          8.459508559572402,
          6.094134373283493,
          8.779646209936734,
          8.035284183441131,
          7.151568835319058,
          8.358032022470248,
          9.547437825453343,
          8.818474161075136,
          4.778684755713776,
          8.560534322318183,
          7.707113979530006,
          3.9541221425957165,
          5.885517223468817,
          7.616076674483524,
          5.596276842211912,
          6.676323288942598,
          6.5584570408786025,
          5.9433547625136764,
          8.023544591381961,
          7.863895278380301,
          10.380789701473452,
          9.351504679559628,
          7.935357336518524,
          5.819063992732287,
          8.53694871048641,
          7.0509689039956545,
          9.985172260479295,
          5.279564807421822,
          7.046703201701108,
          7.223498299035669,
          7.231473409841691,
          6.83941988059775,
          6.710219701360876,
          7.404788285732193,
          5.229208998087604,
          6.201499498362872,
          6.073810609101648,
          6.960199478741632,
          7.3146101724740165,
          9.13270310173518,
          7.035013183023751,
          7.276380451304484,
          7.3743573091198975,
          5.414017208485989,
          5.6987942820774276,
          5.438284563388943,
          7.214833553097804,
          7.792210974424454,
          5.58646362843553,
          6.249806000983922,
          5.494379370558663,
          5.796456372828713,
          8.51937317613211,
          4.541370751770838,
          6.155135143440926,
          6.581905448422133,
          7.0789068365227825,
          8.13606105268912,
          8.018701868427899,
          6.909406015083425,
          6.965007287656037,
          9.27425152806502
         ],
         "yaxis": "y"
        },
        {
         "marker": {
          "size": 10
         },
         "mode": "markers",
         "type": "scatter",
         "x": [
          4.723137228862436,
          1.86968478850211,
          13.020198244438896,
          4.76524105340717
         ],
         "y": [
          20.3288143779887,
          7.673242665711705,
          5.9966589100644585,
          4.964043556682021
         ]
        }
       ],
       "layout": {
        "legend": {
         "title": {
          "text": "color"
         },
         "tracegroupgap": 0
        },
        "margin": {
         "t": 60
        },
        "template": {
         "data": {
          "bar": [
           {
            "error_x": {
             "color": "#2a3f5f"
            },
            "error_y": {
             "color": "#2a3f5f"
            },
            "marker": {
             "line": {
              "color": "#E5ECF6",
              "width": 0.5
             },
             "pattern": {
              "fillmode": "overlay",
              "size": 10,
              "solidity": 0.2
             }
            },
            "type": "bar"
           }
          ],
          "barpolar": [
           {
            "marker": {
             "line": {
              "color": "#E5ECF6",
              "width": 0.5
             },
             "pattern": {
              "fillmode": "overlay",
              "size": 10,
              "solidity": 0.2
             }
            },
            "type": "barpolar"
           }
          ],
          "carpet": [
           {
            "aaxis": {
             "endlinecolor": "#2a3f5f",
             "gridcolor": "white",
             "linecolor": "white",
             "minorgridcolor": "white",
             "startlinecolor": "#2a3f5f"
            },
            "baxis": {
             "endlinecolor": "#2a3f5f",
             "gridcolor": "white",
             "linecolor": "white",
             "minorgridcolor": "white",
             "startlinecolor": "#2a3f5f"
            },
            "type": "carpet"
           }
          ],
          "choropleth": [
           {
            "colorbar": {
             "outlinewidth": 0,
             "ticks": ""
            },
            "type": "choropleth"
           }
          ],
          "contour": [
           {
            "colorbar": {
             "outlinewidth": 0,
             "ticks": ""
            },
            "colorscale": [
             [
              0,
              "#0d0887"
             ],
             [
              0.1111111111111111,
              "#46039f"
             ],
             [
              0.2222222222222222,
              "#7201a8"
             ],
             [
              0.3333333333333333,
              "#9c179e"
             ],
             [
              0.4444444444444444,
              "#bd3786"
             ],
             [
              0.5555555555555556,
              "#d8576b"
             ],
             [
              0.6666666666666666,
              "#ed7953"
             ],
             [
              0.7777777777777778,
              "#fb9f3a"
             ],
             [
              0.8888888888888888,
              "#fdca26"
             ],
             [
              1,
              "#f0f921"
             ]
            ],
            "type": "contour"
           }
          ],
          "contourcarpet": [
           {
            "colorbar": {
             "outlinewidth": 0,
             "ticks": ""
            },
            "type": "contourcarpet"
           }
          ],
          "heatmap": [
           {
            "colorbar": {
             "outlinewidth": 0,
             "ticks": ""
            },
            "colorscale": [
             [
              0,
              "#0d0887"
             ],
             [
              0.1111111111111111,
              "#46039f"
             ],
             [
              0.2222222222222222,
              "#7201a8"
             ],
             [
              0.3333333333333333,
              "#9c179e"
             ],
             [
              0.4444444444444444,
              "#bd3786"
             ],
             [
              0.5555555555555556,
              "#d8576b"
             ],
             [
              0.6666666666666666,
              "#ed7953"
             ],
             [
              0.7777777777777778,
              "#fb9f3a"
             ],
             [
              0.8888888888888888,
              "#fdca26"
             ],
             [
              1,
              "#f0f921"
             ]
            ],
            "type": "heatmap"
           }
          ],
          "heatmapgl": [
           {
            "colorbar": {
             "outlinewidth": 0,
             "ticks": ""
            },
            "colorscale": [
             [
              0,
              "#0d0887"
             ],
             [
              0.1111111111111111,
              "#46039f"
             ],
             [
              0.2222222222222222,
              "#7201a8"
             ],
             [
              0.3333333333333333,
              "#9c179e"
             ],
             [
              0.4444444444444444,
              "#bd3786"
             ],
             [
              0.5555555555555556,
              "#d8576b"
             ],
             [
              0.6666666666666666,
              "#ed7953"
             ],
             [
              0.7777777777777778,
              "#fb9f3a"
             ],
             [
              0.8888888888888888,
              "#fdca26"
             ],
             [
              1,
              "#f0f921"
             ]
            ],
            "type": "heatmapgl"
           }
          ],
          "histogram": [
           {
            "marker": {
             "pattern": {
              "fillmode": "overlay",
              "size": 10,
              "solidity": 0.2
             }
            },
            "type": "histogram"
           }
          ],
          "histogram2d": [
           {
            "colorbar": {
             "outlinewidth": 0,
             "ticks": ""
            },
            "colorscale": [
             [
              0,
              "#0d0887"
             ],
             [
              0.1111111111111111,
              "#46039f"
             ],
             [
              0.2222222222222222,
              "#7201a8"
             ],
             [
              0.3333333333333333,
              "#9c179e"
             ],
             [
              0.4444444444444444,
              "#bd3786"
             ],
             [
              0.5555555555555556,
              "#d8576b"
             ],
             [
              0.6666666666666666,
              "#ed7953"
             ],
             [
              0.7777777777777778,
              "#fb9f3a"
             ],
             [
              0.8888888888888888,
              "#fdca26"
             ],
             [
              1,
              "#f0f921"
             ]
            ],
            "type": "histogram2d"
           }
          ],
          "histogram2dcontour": [
           {
            "colorbar": {
             "outlinewidth": 0,
             "ticks": ""
            },
            "colorscale": [
             [
              0,
              "#0d0887"
             ],
             [
              0.1111111111111111,
              "#46039f"
             ],
             [
              0.2222222222222222,
              "#7201a8"
             ],
             [
              0.3333333333333333,
              "#9c179e"
             ],
             [
              0.4444444444444444,
              "#bd3786"
             ],
             [
              0.5555555555555556,
              "#d8576b"
             ],
             [
              0.6666666666666666,
              "#ed7953"
             ],
             [
              0.7777777777777778,
              "#fb9f3a"
             ],
             [
              0.8888888888888888,
              "#fdca26"
             ],
             [
              1,
              "#f0f921"
             ]
            ],
            "type": "histogram2dcontour"
           }
          ],
          "mesh3d": [
           {
            "colorbar": {
             "outlinewidth": 0,
             "ticks": ""
            },
            "type": "mesh3d"
           }
          ],
          "parcoords": [
           {
            "line": {
             "colorbar": {
              "outlinewidth": 0,
              "ticks": ""
             }
            },
            "type": "parcoords"
           }
          ],
          "pie": [
           {
            "automargin": true,
            "type": "pie"
           }
          ],
          "scatter": [
           {
            "fillpattern": {
             "fillmode": "overlay",
             "size": 10,
             "solidity": 0.2
            },
            "type": "scatter"
           }
          ],
          "scatter3d": [
           {
            "line": {
             "colorbar": {
              "outlinewidth": 0,
              "ticks": ""
             }
            },
            "marker": {
             "colorbar": {
              "outlinewidth": 0,
              "ticks": ""
             }
            },
            "type": "scatter3d"
           }
          ],
          "scattercarpet": [
           {
            "marker": {
             "colorbar": {
              "outlinewidth": 0,
              "ticks": ""
             }
            },
            "type": "scattercarpet"
           }
          ],
          "scattergeo": [
           {
            "marker": {
             "colorbar": {
              "outlinewidth": 0,
              "ticks": ""
             }
            },
            "type": "scattergeo"
           }
          ],
          "scattergl": [
           {
            "marker": {
             "colorbar": {
              "outlinewidth": 0,
              "ticks": ""
             }
            },
            "type": "scattergl"
           }
          ],
          "scattermapbox": [
           {
            "marker": {
             "colorbar": {
              "outlinewidth": 0,
              "ticks": ""
             }
            },
            "type": "scattermapbox"
           }
          ],
          "scatterpolar": [
           {
            "marker": {
             "colorbar": {
              "outlinewidth": 0,
              "ticks": ""
             }
            },
            "type": "scatterpolar"
           }
          ],
          "scatterpolargl": [
           {
            "marker": {
             "colorbar": {
              "outlinewidth": 0,
              "ticks": ""
             }
            },
            "type": "scatterpolargl"
           }
          ],
          "scatterternary": [
           {
            "marker": {
             "colorbar": {
              "outlinewidth": 0,
              "ticks": ""
             }
            },
            "type": "scatterternary"
           }
          ],
          "surface": [
           {
            "colorbar": {
             "outlinewidth": 0,
             "ticks": ""
            },
            "colorscale": [
             [
              0,
              "#0d0887"
             ],
             [
              0.1111111111111111,
              "#46039f"
             ],
             [
              0.2222222222222222,
              "#7201a8"
             ],
             [
              0.3333333333333333,
              "#9c179e"
             ],
             [
              0.4444444444444444,
              "#bd3786"
             ],
             [
              0.5555555555555556,
              "#d8576b"
             ],
             [
              0.6666666666666666,
              "#ed7953"
             ],
             [
              0.7777777777777778,
              "#fb9f3a"
             ],
             [
              0.8888888888888888,
              "#fdca26"
             ],
             [
              1,
              "#f0f921"
             ]
            ],
            "type": "surface"
           }
          ],
          "table": [
           {
            "cells": {
             "fill": {
              "color": "#EBF0F8"
             },
             "line": {
              "color": "white"
             }
            },
            "header": {
             "fill": {
              "color": "#C8D4E3"
             },
             "line": {
              "color": "white"
             }
            },
            "type": "table"
           }
          ]
         },
         "layout": {
          "annotationdefaults": {
           "arrowcolor": "#2a3f5f",
           "arrowhead": 0,
           "arrowwidth": 1
          },
          "autotypenumbers": "strict",
          "coloraxis": {
           "colorbar": {
            "outlinewidth": 0,
            "ticks": ""
           }
          },
          "colorscale": {
           "diverging": [
            [
             0,
             "#8e0152"
            ],
            [
             0.1,
             "#c51b7d"
            ],
            [
             0.2,
             "#de77ae"
            ],
            [
             0.3,
             "#f1b6da"
            ],
            [
             0.4,
             "#fde0ef"
            ],
            [
             0.5,
             "#f7f7f7"
            ],
            [
             0.6,
             "#e6f5d0"
            ],
            [
             0.7,
             "#b8e186"
            ],
            [
             0.8,
             "#7fbc41"
            ],
            [
             0.9,
             "#4d9221"
            ],
            [
             1,
             "#276419"
            ]
           ],
           "sequential": [
            [
             0,
             "#0d0887"
            ],
            [
             0.1111111111111111,
             "#46039f"
            ],
            [
             0.2222222222222222,
             "#7201a8"
            ],
            [
             0.3333333333333333,
             "#9c179e"
            ],
            [
             0.4444444444444444,
             "#bd3786"
            ],
            [
             0.5555555555555556,
             "#d8576b"
            ],
            [
             0.6666666666666666,
             "#ed7953"
            ],
            [
             0.7777777777777778,
             "#fb9f3a"
            ],
            [
             0.8888888888888888,
             "#fdca26"
            ],
            [
             1,
             "#f0f921"
            ]
           ],
           "sequentialminus": [
            [
             0,
             "#0d0887"
            ],
            [
             0.1111111111111111,
             "#46039f"
            ],
            [
             0.2222222222222222,
             "#7201a8"
            ],
            [
             0.3333333333333333,
             "#9c179e"
            ],
            [
             0.4444444444444444,
             "#bd3786"
            ],
            [
             0.5555555555555556,
             "#d8576b"
            ],
            [
             0.6666666666666666,
             "#ed7953"
            ],
            [
             0.7777777777777778,
             "#fb9f3a"
            ],
            [
             0.8888888888888888,
             "#fdca26"
            ],
            [
             1,
             "#f0f921"
            ]
           ]
          },
          "colorway": [
           "#636efa",
           "#EF553B",
           "#00cc96",
           "#ab63fa",
           "#FFA15A",
           "#19d3f3",
           "#FF6692",
           "#B6E880",
           "#FF97FF",
           "#FECB52"
          ],
          "font": {
           "color": "#2a3f5f"
          },
          "geo": {
           "bgcolor": "white",
           "lakecolor": "white",
           "landcolor": "#E5ECF6",
           "showlakes": true,
           "showland": true,
           "subunitcolor": "white"
          },
          "hoverlabel": {
           "align": "left"
          },
          "hovermode": "closest",
          "mapbox": {
           "style": "light"
          },
          "paper_bgcolor": "white",
          "plot_bgcolor": "#E5ECF6",
          "polar": {
           "angularaxis": {
            "gridcolor": "white",
            "linecolor": "white",
            "ticks": ""
           },
           "bgcolor": "#E5ECF6",
           "radialaxis": {
            "gridcolor": "white",
            "linecolor": "white",
            "ticks": ""
           }
          },
          "scene": {
           "xaxis": {
            "backgroundcolor": "#E5ECF6",
            "gridcolor": "white",
            "gridwidth": 2,
            "linecolor": "white",
            "showbackground": true,
            "ticks": "",
            "zerolinecolor": "white"
           },
           "yaxis": {
            "backgroundcolor": "#E5ECF6",
            "gridcolor": "white",
            "gridwidth": 2,
            "linecolor": "white",
            "showbackground": true,
            "ticks": "",
            "zerolinecolor": "white"
           },
           "zaxis": {
            "backgroundcolor": "#E5ECF6",
            "gridcolor": "white",
            "gridwidth": 2,
            "linecolor": "white",
            "showbackground": true,
            "ticks": "",
            "zerolinecolor": "white"
           }
          },
          "shapedefaults": {
           "line": {
            "color": "#2a3f5f"
           }
          },
          "ternary": {
           "aaxis": {
            "gridcolor": "white",
            "linecolor": "white",
            "ticks": ""
           },
           "baxis": {
            "gridcolor": "white",
            "linecolor": "white",
            "ticks": ""
           },
           "bgcolor": "#E5ECF6",
           "caxis": {
            "gridcolor": "white",
            "linecolor": "white",
            "ticks": ""
           }
          },
          "title": {
           "x": 0.05
          },
          "xaxis": {
           "automargin": true,
           "gridcolor": "white",
           "linecolor": "white",
           "ticks": "",
           "title": {
            "standoff": 15
           },
           "zerolinecolor": "white",
           "zerolinewidth": 2
          },
          "yaxis": {
           "automargin": true,
           "gridcolor": "white",
           "linecolor": "white",
           "ticks": "",
           "title": {
            "standoff": 15
           },
           "zerolinecolor": "white",
           "zerolinewidth": 2
          }
         }
        },
        "xaxis": {
         "anchor": "y",
         "domain": [
          0,
          1
         ],
         "title": {
          "text": "petals"
         }
        },
        "yaxis": {
         "anchor": "x",
         "domain": [
          0,
          1
         ],
         "title": {
          "text": "petals_count"
         }
        }
       }
      },
      "text/html": [
       "<div>                            <div id=\"fbaf335e-eee3-4769-88c1-8e6a0efecf17\" class=\"plotly-graph-div\" style=\"height:525px; width:100%;\"></div>            <script type=\"text/javascript\">                require([\"plotly\"], function(Plotly) {                    window.PLOTLYENV=window.PLOTLYENV || {};                                    if (document.getElementById(\"fbaf335e-eee3-4769-88c1-8e6a0efecf17\")) {                    Plotly.newPlot(                        \"fbaf335e-eee3-4769-88c1-8e6a0efecf17\",                        [{\"hovertemplate\":\"color=rose<br>petals=%{x}<br>petals_count=%{y}<extra></extra>\",\"legendgroup\":\"rose\",\"marker\":{\"color\":\"#636efa\",\"symbol\":\"circle\"},\"mode\":\"markers\",\"name\":\"rose\",\"orientation\":\"v\",\"showlegend\":true,\"x\":[2.813820337891017,4.758918230950764,5.957010865163419,1.8848687900429613,5.5304253568518575,4.848494957506236,8.172420513349907,5.05511770298555,3.04197947002993,5.305198128091331,2.172155748624356,7.00280521857043,5.645264006602336,3.439763014620431,3.6437168037269383,4.264824524793427,10.089077192397006,6.947963801572535,1.3446987202220089,3.7119971042242437,3.878213593127726,4.070339109414154,4.642997244239807,2.8160465118759888,5.165047609125213,7.323017278888118,1.049146572354163,4.206406035054261,5.188769142539044,4.670115897650484,5.522100134198854,4.72462142207894,3.626575126707206,6.958570825239121,2.534118567885991,4.6450898462960915,7.78511776316568,2.9002172434215074,4.337143100413938,4.505888733558034,7.287457770828709,4.149323797869165,6.266023468774794,5.065800187762358,8.274106787834974,2.467110598823089,0.9274960557046841,3.7303715681541374,7.844729277007753,2.8631204383278304,6.506445418453115,4.254088310742397,2.8637084204994228,1.0115864443971572,4.441482750038339,5.8355046650889335,5.38290024831104,6.7920159688041135,2.4859820397019905,2.0218825339366,5.054833204471913,3.5289339006330764,8.650029081808302,5.479374788398151,5.472268239028881,2.14111673901729,7.632222650136345,3.5812838308379895,3.0091202577339207,1.070998786572094,5.521874971487909,8.35977669116858,4.613704532986755,5.566329321460353,3.0202100421194786,7.799070806413855,3.094111371768359,4.43095700460829,6.634660431737544,5.951594266723985,1.1307635172890733,3.901193799046874,2.804164734854507,2.9114649445943845,5.088874062628072,-0.2960772835161478,6.876707146334617,1.791451396134002,4.396235791156361,3.5014371306101184,4.820604503686765,3.206507147658442,0.5278293370271041,3.232304496203777,2.9889468246670536,5.734036785213396,2.565461867776746,5.558241129104525,3.217412196397938,3.834650991513352,3.854215820998566,5.006424266761077,4.076865527981652,6.143367051806203,2.0290893902906504,3.3163968279018734,6.5595060246136105,9.442886613060871,2.3745473756985915,6.395153648123491,7.434185582814212,5.354572159858011,1.8959004542299374,4.993948977767706,4.982547153464417,7.497497261628574,2.621436221427092,4.660338442211569,1.2484925744273028,3.966570292383756,8.028362902042202,3.9100778833738072,8.237748392715066,5.874479183260826,4.079102133495679,5.4007015823780025,4.3678753904493375,5.220032739314342,7.594314821861909,5.871301285502615,5.829183062155425,7.703433777688948,2.9139269297332895,6.574589556548189,4.410206770526093,1.952181417059767,4.064988152761301,0.7680562766398582,2.527588777874559,5.568860719699084],\"xaxis\":\"x\",\"y\":[36.235939389912645,5.332751372727717,26.40016950698233,15.914858358903112,0.9959115200989146,-3.2716714524756334,14.502786639813385,24.394134115738453,16.84434076830724,-1.644786266266884,4.054906817679594,15.436870410270146,24.653219274577133,17.129749502361,-5.404283128624385,21.54114661819982,17.484227243110837,6.335723990861666,25.037584082169907,17.447870972663228,26.922507165782513,27.15578011562769,19.44181944826134,-0.17168390031794978,16.903109051766553,2.762647529459292,17.069543338731975,15.632833196169512,25.54874846426634,11.869617980390444,15.298097811585306,19.26435296915395,25.060328156791435,4.865154303628161,2.6053969797957155,17.95595366365031,3.5983680371655,17.621817026513828,17.51378294274084,25.100486197080485,18.43315634498642,19.171329246124685,30.240658352256784,9.514687065966367,21.414865000424193,22.49129818202611,16.169239530222317,14.139660360105006,9.69294396401281,21.27937370107943,22.506974720956194,23.66121982998913,19.445468305466257,20.934938643402354,19.065755295037825,15.523002462941594,17.40500559941506,7.898492630334719,28.22867730696679,-2.4643437667098986,2.978979832576144,14.095862193571447,31.975006060269923,12.698309826088446,17.491048433358372,12.76394102989115,17.153876515698098,4.641035467351415,-0.4900863459762004,10.068337539407057,25.291769135877672,7.906431653849406,-0.04898679927642213,34.79093085981587,13.77836250821691,5.169898367464654,9.055948010508,26.501687472582983,11.21535769836422,19.608284617181386,18.13113948604839,15.392515029141771,13.518160939970342,12.42704936349351,14.238250406552908,13.006608743174464,3.0020822880349307,1.9175152761862808,15.84514634094888,25.55107889781506,16.573704443286896,17.08508630106533,5.353186588041611,17.170627820320224,18.358665160402094,19.61094556837079,5.471990954283672,19.242688319138985,-6.37488550664683,6.256728539259964,22.741213449653202,17.62843412332954,24.659091378942584,7.960509700303541,8.600797194998272,8.674781555245316,4.878989367871027,-0.07534258831302054,11.999237890472678,17.35073415975355,10.69842491806872,14.333938377480164,5.2297931784865614,22.77850699646848,15.3609903767904,21.407001599800523,19.932697714629704,13.871737953512515,32.558740843212945,0.6896964083365518,19.691619812101536,-0.2103305852001185,12.970716894933663,11.328713974416875,16.337692650420472,18.115214029672323,7.527385970585036,14.052857662288327,17.585469444000747,12.599017039933376,22.269094543574326,23.2463846916169,6.669437287922214,19.332766114213,7.437910925507062,7.6935689987926725,16.765572888989908,2.445107325659455,18.92258775650147,32.30516629317428],\"yaxis\":\"y\",\"type\":\"scatter\"},{\"hovertemplate\":\"color=tulpan<br>petals=%{x}<br>petals_count=%{y}<extra></extra>\",\"legendgroup\":\"tulpan\",\"marker\":{\"color\":\"#EF553B\",\"symbol\":\"circle\"},\"mode\":\"markers\",\"name\":\"tulpan\",\"orientation\":\"v\",\"showlegend\":true,\"x\":[4.697785468439382,4.24662378016334,5.580912140380187,4.039056242313737,4.6169050548199735,2.2478117517573954,5.390771036430068,5.909199082169321,0.45443292042472505,3.239880270281668,3.0251889555097145,3.5410684700729806,4.410425729562005,1.4686870786232893,2.113082995890603,3.475674440306828,1.4655187383129982,5.382328445365472,4.302288924777313,5.647509422038439,5.184180975663498,3.621543747573532,6.084971957423064,4.547352869246774,6.36822923120271,3.3028472181334756,6.772340923509636,3.007105907909125,4.159843943854482,4.997529819390384,4.399422526025879,2.9217892779558348,2.3541780136470645,8.03040111735963,3.24036855986383,0.3558519862393763,5.279540719272195,3.2581384029893243,3.0252376984211073,6.676413837838573,3.8035825021429233,3.481860886594516,4.661118867471803,4.045863066086348,2.2749467494085183,0.5474600399892009,5.637598090476114,5.007407227204279,2.4796356864435443,1.8960732888955611,5.516478143596631,3.56641227830793,0.19136936839494334,5.152512047218655,3.8486349578271994,3.4164484231230006,3.743243310106321,6.10741375237336,4.010419928674012,3.5047793683925645,5.844424106942824,2.965819549255541,4.633133460714291,2.044844809711549,2.817041741313034,4.134726772207938,4.852353304026252,4.464815813970017,5.07968955895722,6.440395357679975,4.362516039223103,4.471686369366239,4.895624775807116,4.406620856380068,3.0554515253951045,5.711862803487515,4.34446263322035,2.943334052424347,3.879242419020856,2.885896345020618,0.9705562092556366,5.485777868779199,4.889725089725399,4.713893640782344,4.817156818814895,4.9741555825308765,6.168445783657013,3.671990244268763,3.586096699120362,2.6248674519963604,5.863709585184422,2.499301834832341,1.1504697566096622,2.7350629360041854,6.927177970193216,1.849863393029381,7.062441436126882,2.1027343695897605,2.1066858610320467,2.576184813853532,4.262765496147146,2.0852485272549703,5.273346814157499,3.39480956268125,1.7459461910255163,4.1050032465656,5.940870861986124,4.6991100718120755,4.6988631930569,4.1252421376174615,5.885013619137085,3.487093347319082,4.619972083634532,2.4385584097362396,5.689904863266606,6.045756957396816,5.115029933059496,4.678973610630831,0.4705736790589148,4.3753830758357575],\"xaxis\":\"x\",\"y\":[5.941511620707933,3.7763086427054833,7.484603648138739,6.490410532224571,5.324550507614418,5.7198168719534515,5.3577618811525305,4.354823299518149,5.8592821448190655,6.9185528683603295,7.246181045066292,7.140048789585382,5.752246493315619,4.070619201934042,5.418642235398658,6.296084108860855,6.743905480145964,5.723545782710833,6.1972987226048355,4.797808546578134,6.907318363817199,6.010579277307058,4.965445083895278,6.015373059819447,7.001051153444429,5.704899058340382,5.969843887556263,5.324327202572187,4.7170833973701525,7.084674648239554,5.749897100886866,6.188966091088549,7.981850758519237,5.495645071667916,6.736023285993144,5.969543933454975,6.845122706163863,5.884007467328823,4.219032091511568,4.638011739287256,5.493220593251319,6.274995669652903,8.36429028073022,6.140804836420946,7.3139254372377644,6.139538428276538,6.430705971697203,5.317317136282305,5.542249813043015,4.2087021181444175,5.050755205768177,4.645947048694005,6.066469691171805,6.3357707360004305,5.760676832620206,4.970687009546,5.59169660347382,7.668200144093641,4.021486755589452,4.7415483919385615,6.268298688821243,4.9164549147911725,5.951808527754293,7.180516070288128,7.515631950093582,3.9027772746581832,4.9774302025036326,6.578821754994413,6.140536435904821,6.640242003512003,6.021586642263877,5.1361773888990365,6.2956196019562425,3.7249340291971533,5.788908814958093,5.712588506614707,4.733567696547766,5.014140878961085,5.47397240895596,5.19373046251938,5.464796885918323,6.145151266418472,7.112459585450941,6.940153995084756,6.547275188805546,6.742351755230067,6.3931956589669054,7.388322616242096,7.293139366883873,5.934958955860726,6.03368902326461,4.518643003605659,4.543002548327182,6.9023118710605,6.077647241636006,5.174831678282632,5.839664204422815,5.262065073328166,5.450365628275465,6.409847465596277,6.321051269476808,6.720654942458367,6.44762706781294,6.650432280653389,5.722779937910434,5.9272136824165385,7.264190828965993,6.316736470793313,4.695561294633375,7.257871660326457,6.371515865779512,6.148766878137203,4.816295411483001,7.135240658034242,6.468170782552062,7.204664027302474,6.419329578329075,4.377735309684814,6.0970268954524665,6.869263000156929],\"yaxis\":\"y\",\"type\":\"scatter\"},{\"hovertemplate\":\"color=gladiolus<br>petals=%{x}<br>petals_count=%{y}<extra></extra>\",\"legendgroup\":\"gladiolus\",\"marker\":{\"color\":\"#00cc96\",\"symbol\":\"circle\"},\"mode\":\"markers\",\"name\":\"gladiolus\",\"orientation\":\"v\",\"showlegend\":true,\"x\":[11.945458122556843,9.850452839618402,13.913338229072403,12.12095784353036,14.232835769172553,12.584021802270076,11.287721164179095,14.143945765219359,10.811399989414461,14.062580830286453,12.909419854905735,14.87175497467193,12.228298028689618,11.232789094659777,10.399031479691402,13.230266125827711,10.950739291653488,13.283120858277067,16.532696196075573,15.744029773503572,13.345342442181453,16.534808791460065,15.693335289977943,11.79104136579445,14.622977487986278,12.747202449281959,15.76927266394463,17.356074349671204,13.1590637993974,15.150405798203142,13.586345050811099,12.979498053716469,8.053915167562398,6.549723068341584,11.023684621928371,12.055024619030723,8.687236708928992,15.116889156375096,12.001163020397538,13.160264300915852,15.819882076072322,11.161192714085322,11.891947424849523,10.724379376679634,12.316912502763785,11.401816417386318,10.590770918933229,14.881629373221953,14.65048984293895,11.064713498660876,11.805470862401025,14.788407929006063,14.77131257075964,11.462660934503084,10.843241293762295,12.454868773686,15.242594164604787,11.851936592800284,9.966323680240157,11.772529797186223,11.280232517565999,12.266128941548375,10.47615781573813,13.97606961676666,9.80702984068277,12.351490491123506,13.467400806468593,8.759801717455197,12.807914386279382,15.610558612259384,12.817800171572928,9.894109422448164,14.202257922937115,13.263818584335578,12.761696405109765,12.925721053127923,13.423851943463902,12.848471185171006,14.008811496978337,11.544203944985686,13.932564877218685,12.800354354409626,16.565292848888703,15.766387370243251,12.014306248266939,15.752104293192783,14.37932904725208,14.555955408948634,11.554533880860866,12.651339985537078,13.605081475606939,10.945495174908952,9.00461930056434,10.850394207407712,15.916641040945992,13.969440352820525,16.405616019659433,15.865518420053125,8.714246251261816,8.23774067506956],\"xaxis\":\"x\",\"y\":[5.4843285293190025,5.386792585625325,5.73787495963005,5.454969459738018,6.702810571802072,6.100405832499999,5.979933390262872,6.333242487491007,5.496229966650921,5.746756888165396,5.8631040404812325,5.939197476486894,5.527100958823397,5.636858706526995,5.186371848942573,6.428289516229419,5.904148523013469,5.543957694483499,5.681941081144489,5.296531849476097,6.257909471342671,5.518259544176661,5.387872014324001,5.999855339856684,5.776665886579592,6.820837283486688,6.780954565157812,5.684204163162981,7.351575036002931,6.1086165691823595,5.575265600649804,6.294419850030563,6.147767633959461,4.883267216868544,5.642376965165718,6.548123260566331,5.643791174058986,5.962282584374276,6.926838764948922,5.3434526095460795,7.1708994136136335,6.947784652234746,5.677707388944402,5.660439163805055,5.307734994500942,6.549704823762742,6.352057622446631,5.6097832726664345,6.593656495842519,5.944880071486677,5.983353688083474,5.477862147550499,6.992817083722395,5.595529339234254,6.415826803371717,5.703659134203706,6.238448393949742,5.596492245547731,5.548296702554923,5.684224697655867,5.620936529825991,5.826519893219811,5.476253058868848,5.336379621020881,6.656959682431427,7.0643655533987015,6.552160639822292,7.621712106103149,5.826184904122022,6.416221163415195,5.534489613951687,6.006767852766229,5.941645666756607,5.6094142069615645,5.424928970116252,6.33786793198762,5.046270824628155,6.401587101392589,6.374196281077983,6.476911520012573,6.382177633496798,5.82055966114857,5.803009364445471,7.130179794724495,6.285676918310996,5.64935416885136,5.986399933888666,5.537393585000321,5.537749171182206,5.048763684688004,6.921572683394927,6.1592028978300375,5.711940306375206,5.834914905816305,5.491528574430125,6.263837936932212,6.281202611527716,5.8238454916755975,5.185991344622582,6.0782542792384655],\"yaxis\":\"y\",\"type\":\"scatter\"},{\"hovertemplate\":\"color=fialk<br>petals=%{x}<br>petals_count=%{y}<extra></extra>\",\"legendgroup\":\"fialk\",\"marker\":{\"color\":\"#ab63fa\",\"symbol\":\"circle\"},\"mode\":\"markers\",\"name\":\"fialk\",\"orientation\":\"v\",\"showlegend\":true,\"x\":[2.79033997588167,0.2810773856408877,0.20589890700365943,1.6816473100069598,2.3754717258525915,1.7054145290466174,1.8273530570168246,2.0081349463718086,2.0102933128898264,1.6326448881107143,2.798536486526415,-0.5205819430331706,2.4816931119206163,1.4519944729069811,0.8857519697686709,0.6601482555874851,1.1882888148038329,2.3326878434568306,1.7411174510289693,0.4988538524883195,0.9260752473140188,2.862599266981073,2.0768498040606156,2.078109350764348,1.0872867879101973,2.2066039195115286,1.1617102284799647,0.08644457467278666,1.720522143353562,0.7220797092318239,0.610499056672853,0.902707499264685,2.088186984378014,1.0741980922261685,1.8476880026926956,0.43241135997471014,2.158160032240094,2.267023910895695,0.6630993062195808,2.096935623950653,2.6245151511073983,0.3501628513955273,0.44331839247572,1.9234075791709213,2.551126893977954,2.3236864047633086,2.6357000953491614,1.6991972776305473,1.9161007892395154,-0.18456832192220918,3.3065326905607693,3.6198914946336944,1.5417380585366767,2.8224908731339724,2.5811353717901517,1.6347891142383424,1.574897809281529,2.3282789352705473,2.217224536797102,2.9489149828625885,0.5952257916562539,2.4485762416670265,3.3292317062277554,1.4307372019519549,1.7190842635272703,1.1314211698698742,1.9853687068261672,2.3408236540747733,0.4902822306637682,1.8039453166509996,4.068964969914873,1.1570892542113884,1.0079166380628473,2.409426495218395,1.7744317496643869,0.0568228729086222,3.092931566816231,1.1636090995573607,-0.32132248326077817,1.327802555107894,1.2412514833887824,1.1710003171167083,-1.3157248704314637,1.4869787936011847,1.5121768804845752,2.330544560655656,2.0284047227760555,1.2824396545405528,1.078477722373261,1.4487845951327705,0.12332220109650671,0.7493268842967269,2.880258327938188,0.6224454207473101,0.9600978090099112,0.9950616753677979,1.9707861542731608,0.1561621510034621,0.9943946366569926,1.8589304912550966,-0.32081966891181923,2.780232315263313,1.1101192454011375,1.636960864525545,2.1687041174109947,2.112960897223007,2.5677956624156595,0.6592837892116219,1.940141623188771,0.6214866948759228,0.666423644156116,2.7154155982917905,1.385443195124354,2.8725130825163534,0.26249761904510827,-0.5956677153198147,3.249075973266214,0.3196326871283357,3.198606328315014,1.645192723744557],\"xaxis\":\"x\",\"y\":[10.295575958492181,8.059071084107227,8.782460064098021,8.444094336717031,7.132118837004621,6.201358829801712,8.681977821800533,7.673090544418601,8.21292255324113,9.522310855533465,7.456985553159726,5.571618199535552,6.548845883582054,8.637657221745414,7.636200093661147,6.600613647120082,6.789848244054185,7.7454155413867305,5.658095145716046,8.208314307154998,4.698549570524504,5.970139304969788,8.147486290543016,4.747829566278813,7.208872425620942,8.830507716339833,8.495071594416922,4.84870112652713,9.201932401172117,7.16552329004275,7.2204639061369855,9.308798219710111,9.142401799442606,7.656465850395915,6.584369969083573,7.673742130310812,9.244560097126472,7.68137711982993,6.099542895961774,9.122840772179003,6.762909917089076,9.644370914080195,10.403731888737632,7.86936288497879,8.386785753634356,6.69860449635238,8.515908322410217,9.798899277817986,6.8453612603034575,8.202553912263014,7.758271493979163,8.985929018415824,6.996850779108907,8.424701356757053,6.686624893556623,7.652254016131024,7.729412733145367,5.06442493817914,8.459508559572402,6.094134373283493,8.779646209936734,8.035284183441131,7.151568835319058,8.358032022470248,9.547437825453343,8.818474161075136,4.778684755713776,8.560534322318183,7.707113979530006,3.9541221425957165,5.885517223468817,7.616076674483524,5.596276842211912,6.676323288942598,6.5584570408786025,5.9433547625136764,8.023544591381961,7.863895278380301,10.380789701473452,9.351504679559628,7.935357336518524,5.819063992732287,8.53694871048641,7.0509689039956545,9.985172260479295,5.279564807421822,7.046703201701108,7.223498299035669,7.231473409841691,6.83941988059775,6.710219701360876,7.404788285732193,5.229208998087604,6.201499498362872,6.073810609101648,6.960199478741632,7.3146101724740165,9.13270310173518,7.035013183023751,7.276380451304484,7.3743573091198975,5.414017208485989,5.6987942820774276,5.438284563388943,7.214833553097804,7.792210974424454,5.58646362843553,6.249806000983922,5.494379370558663,5.796456372828713,8.51937317613211,4.541370751770838,6.155135143440926,6.581905448422133,7.0789068365227825,8.13606105268912,8.018701868427899,6.909406015083425,6.965007287656037,9.27425152806502],\"yaxis\":\"y\",\"type\":\"scatter\"},{\"marker\":{\"size\":10},\"mode\":\"markers\",\"x\":[4.723137228862436,1.86968478850211,13.020198244438896,4.76524105340717],\"y\":[20.3288143779887,7.673242665711705,5.9966589100644585,4.964043556682021],\"type\":\"scatter\"}],                        {\"template\":{\"data\":{\"histogram2dcontour\":[{\"type\":\"histogram2dcontour\",\"colorbar\":{\"outlinewidth\":0,\"ticks\":\"\"},\"colorscale\":[[0.0,\"#0d0887\"],[0.1111111111111111,\"#46039f\"],[0.2222222222222222,\"#7201a8\"],[0.3333333333333333,\"#9c179e\"],[0.4444444444444444,\"#bd3786\"],[0.5555555555555556,\"#d8576b\"],[0.6666666666666666,\"#ed7953\"],[0.7777777777777778,\"#fb9f3a\"],[0.8888888888888888,\"#fdca26\"],[1.0,\"#f0f921\"]]}],\"choropleth\":[{\"type\":\"choropleth\",\"colorbar\":{\"outlinewidth\":0,\"ticks\":\"\"}}],\"histogram2d\":[{\"type\":\"histogram2d\",\"colorbar\":{\"outlinewidth\":0,\"ticks\":\"\"},\"colorscale\":[[0.0,\"#0d0887\"],[0.1111111111111111,\"#46039f\"],[0.2222222222222222,\"#7201a8\"],[0.3333333333333333,\"#9c179e\"],[0.4444444444444444,\"#bd3786\"],[0.5555555555555556,\"#d8576b\"],[0.6666666666666666,\"#ed7953\"],[0.7777777777777778,\"#fb9f3a\"],[0.8888888888888888,\"#fdca26\"],[1.0,\"#f0f921\"]]}],\"heatmap\":[{\"type\":\"heatmap\",\"colorbar\":{\"outlinewidth\":0,\"ticks\":\"\"},\"colorscale\":[[0.0,\"#0d0887\"],[0.1111111111111111,\"#46039f\"],[0.2222222222222222,\"#7201a8\"],[0.3333333333333333,\"#9c179e\"],[0.4444444444444444,\"#bd3786\"],[0.5555555555555556,\"#d8576b\"],[0.6666666666666666,\"#ed7953\"],[0.7777777777777778,\"#fb9f3a\"],[0.8888888888888888,\"#fdca26\"],[1.0,\"#f0f921\"]]}],\"heatmapgl\":[{\"type\":\"heatmapgl\",\"colorbar\":{\"outlinewidth\":0,\"ticks\":\"\"},\"colorscale\":[[0.0,\"#0d0887\"],[0.1111111111111111,\"#46039f\"],[0.2222222222222222,\"#7201a8\"],[0.3333333333333333,\"#9c179e\"],[0.4444444444444444,\"#bd3786\"],[0.5555555555555556,\"#d8576b\"],[0.6666666666666666,\"#ed7953\"],[0.7777777777777778,\"#fb9f3a\"],[0.8888888888888888,\"#fdca26\"],[1.0,\"#f0f921\"]]}],\"contourcarpet\":[{\"type\":\"contourcarpet\",\"colorbar\":{\"outlinewidth\":0,\"ticks\":\"\"}}],\"contour\":[{\"type\":\"contour\",\"colorbar\":{\"outlinewidth\":0,\"ticks\":\"\"},\"colorscale\":[[0.0,\"#0d0887\"],[0.1111111111111111,\"#46039f\"],[0.2222222222222222,\"#7201a8\"],[0.3333333333333333,\"#9c179e\"],[0.4444444444444444,\"#bd3786\"],[0.5555555555555556,\"#d8576b\"],[0.6666666666666666,\"#ed7953\"],[0.7777777777777778,\"#fb9f3a\"],[0.8888888888888888,\"#fdca26\"],[1.0,\"#f0f921\"]]}],\"surface\":[{\"type\":\"surface\",\"colorbar\":{\"outlinewidth\":0,\"ticks\":\"\"},\"colorscale\":[[0.0,\"#0d0887\"],[0.1111111111111111,\"#46039f\"],[0.2222222222222222,\"#7201a8\"],[0.3333333333333333,\"#9c179e\"],[0.4444444444444444,\"#bd3786\"],[0.5555555555555556,\"#d8576b\"],[0.6666666666666666,\"#ed7953\"],[0.7777777777777778,\"#fb9f3a\"],[0.8888888888888888,\"#fdca26\"],[1.0,\"#f0f921\"]]}],\"mesh3d\":[{\"type\":\"mesh3d\",\"colorbar\":{\"outlinewidth\":0,\"ticks\":\"\"}}],\"scatter\":[{\"fillpattern\":{\"fillmode\":\"overlay\",\"size\":10,\"solidity\":0.2},\"type\":\"scatter\"}],\"parcoords\":[{\"type\":\"parcoords\",\"line\":{\"colorbar\":{\"outlinewidth\":0,\"ticks\":\"\"}}}],\"scatterpolargl\":[{\"type\":\"scatterpolargl\",\"marker\":{\"colorbar\":{\"outlinewidth\":0,\"ticks\":\"\"}}}],\"bar\":[{\"error_x\":{\"color\":\"#2a3f5f\"},\"error_y\":{\"color\":\"#2a3f5f\"},\"marker\":{\"line\":{\"color\":\"#E5ECF6\",\"width\":0.5},\"pattern\":{\"fillmode\":\"overlay\",\"size\":10,\"solidity\":0.2}},\"type\":\"bar\"}],\"scattergeo\":[{\"type\":\"scattergeo\",\"marker\":{\"colorbar\":{\"outlinewidth\":0,\"ticks\":\"\"}}}],\"scatterpolar\":[{\"type\":\"scatterpolar\",\"marker\":{\"colorbar\":{\"outlinewidth\":0,\"ticks\":\"\"}}}],\"histogram\":[{\"marker\":{\"pattern\":{\"fillmode\":\"overlay\",\"size\":10,\"solidity\":0.2}},\"type\":\"histogram\"}],\"scattergl\":[{\"type\":\"scattergl\",\"marker\":{\"colorbar\":{\"outlinewidth\":0,\"ticks\":\"\"}}}],\"scatter3d\":[{\"type\":\"scatter3d\",\"line\":{\"colorbar\":{\"outlinewidth\":0,\"ticks\":\"\"}},\"marker\":{\"colorbar\":{\"outlinewidth\":0,\"ticks\":\"\"}}}],\"scattermapbox\":[{\"type\":\"scattermapbox\",\"marker\":{\"colorbar\":{\"outlinewidth\":0,\"ticks\":\"\"}}}],\"scatterternary\":[{\"type\":\"scatterternary\",\"marker\":{\"colorbar\":{\"outlinewidth\":0,\"ticks\":\"\"}}}],\"scattercarpet\":[{\"type\":\"scattercarpet\",\"marker\":{\"colorbar\":{\"outlinewidth\":0,\"ticks\":\"\"}}}],\"carpet\":[{\"aaxis\":{\"endlinecolor\":\"#2a3f5f\",\"gridcolor\":\"white\",\"linecolor\":\"white\",\"minorgridcolor\":\"white\",\"startlinecolor\":\"#2a3f5f\"},\"baxis\":{\"endlinecolor\":\"#2a3f5f\",\"gridcolor\":\"white\",\"linecolor\":\"white\",\"minorgridcolor\":\"white\",\"startlinecolor\":\"#2a3f5f\"},\"type\":\"carpet\"}],\"table\":[{\"cells\":{\"fill\":{\"color\":\"#EBF0F8\"},\"line\":{\"color\":\"white\"}},\"header\":{\"fill\":{\"color\":\"#C8D4E3\"},\"line\":{\"color\":\"white\"}},\"type\":\"table\"}],\"barpolar\":[{\"marker\":{\"line\":{\"color\":\"#E5ECF6\",\"width\":0.5},\"pattern\":{\"fillmode\":\"overlay\",\"size\":10,\"solidity\":0.2}},\"type\":\"barpolar\"}],\"pie\":[{\"automargin\":true,\"type\":\"pie\"}]},\"layout\":{\"autotypenumbers\":\"strict\",\"colorway\":[\"#636efa\",\"#EF553B\",\"#00cc96\",\"#ab63fa\",\"#FFA15A\",\"#19d3f3\",\"#FF6692\",\"#B6E880\",\"#FF97FF\",\"#FECB52\"],\"font\":{\"color\":\"#2a3f5f\"},\"hovermode\":\"closest\",\"hoverlabel\":{\"align\":\"left\"},\"paper_bgcolor\":\"white\",\"plot_bgcolor\":\"#E5ECF6\",\"polar\":{\"bgcolor\":\"#E5ECF6\",\"angularaxis\":{\"gridcolor\":\"white\",\"linecolor\":\"white\",\"ticks\":\"\"},\"radialaxis\":{\"gridcolor\":\"white\",\"linecolor\":\"white\",\"ticks\":\"\"}},\"ternary\":{\"bgcolor\":\"#E5ECF6\",\"aaxis\":{\"gridcolor\":\"white\",\"linecolor\":\"white\",\"ticks\":\"\"},\"baxis\":{\"gridcolor\":\"white\",\"linecolor\":\"white\",\"ticks\":\"\"},\"caxis\":{\"gridcolor\":\"white\",\"linecolor\":\"white\",\"ticks\":\"\"}},\"coloraxis\":{\"colorbar\":{\"outlinewidth\":0,\"ticks\":\"\"}},\"colorscale\":{\"sequential\":[[0.0,\"#0d0887\"],[0.1111111111111111,\"#46039f\"],[0.2222222222222222,\"#7201a8\"],[0.3333333333333333,\"#9c179e\"],[0.4444444444444444,\"#bd3786\"],[0.5555555555555556,\"#d8576b\"],[0.6666666666666666,\"#ed7953\"],[0.7777777777777778,\"#fb9f3a\"],[0.8888888888888888,\"#fdca26\"],[1.0,\"#f0f921\"]],\"sequentialminus\":[[0.0,\"#0d0887\"],[0.1111111111111111,\"#46039f\"],[0.2222222222222222,\"#7201a8\"],[0.3333333333333333,\"#9c179e\"],[0.4444444444444444,\"#bd3786\"],[0.5555555555555556,\"#d8576b\"],[0.6666666666666666,\"#ed7953\"],[0.7777777777777778,\"#fb9f3a\"],[0.8888888888888888,\"#fdca26\"],[1.0,\"#f0f921\"]],\"diverging\":[[0,\"#8e0152\"],[0.1,\"#c51b7d\"],[0.2,\"#de77ae\"],[0.3,\"#f1b6da\"],[0.4,\"#fde0ef\"],[0.5,\"#f7f7f7\"],[0.6,\"#e6f5d0\"],[0.7,\"#b8e186\"],[0.8,\"#7fbc41\"],[0.9,\"#4d9221\"],[1,\"#276419\"]]},\"xaxis\":{\"gridcolor\":\"white\",\"linecolor\":\"white\",\"ticks\":\"\",\"title\":{\"standoff\":15},\"zerolinecolor\":\"white\",\"automargin\":true,\"zerolinewidth\":2},\"yaxis\":{\"gridcolor\":\"white\",\"linecolor\":\"white\",\"ticks\":\"\",\"title\":{\"standoff\":15},\"zerolinecolor\":\"white\",\"automargin\":true,\"zerolinewidth\":2},\"scene\":{\"xaxis\":{\"backgroundcolor\":\"#E5ECF6\",\"gridcolor\":\"white\",\"linecolor\":\"white\",\"showbackground\":true,\"ticks\":\"\",\"zerolinecolor\":\"white\",\"gridwidth\":2},\"yaxis\":{\"backgroundcolor\":\"#E5ECF6\",\"gridcolor\":\"white\",\"linecolor\":\"white\",\"showbackground\":true,\"ticks\":\"\",\"zerolinecolor\":\"white\",\"gridwidth\":2},\"zaxis\":{\"backgroundcolor\":\"#E5ECF6\",\"gridcolor\":\"white\",\"linecolor\":\"white\",\"showbackground\":true,\"ticks\":\"\",\"zerolinecolor\":\"white\",\"gridwidth\":2}},\"shapedefaults\":{\"line\":{\"color\":\"#2a3f5f\"}},\"annotationdefaults\":{\"arrowcolor\":\"#2a3f5f\",\"arrowhead\":0,\"arrowwidth\":1},\"geo\":{\"bgcolor\":\"white\",\"landcolor\":\"#E5ECF6\",\"subunitcolor\":\"white\",\"showland\":true,\"showlakes\":true,\"lakecolor\":\"white\"},\"title\":{\"x\":0.05},\"mapbox\":{\"style\":\"light\"}}},\"xaxis\":{\"anchor\":\"y\",\"domain\":[0.0,1.0],\"title\":{\"text\":\"petals\"}},\"yaxis\":{\"anchor\":\"x\",\"domain\":[0.0,1.0],\"title\":{\"text\":\"petals_count\"}},\"legend\":{\"title\":{\"text\":\"color\"},\"tracegroupgap\":0},\"margin\":{\"t\":60}},                        {\"responsive\": true}                    ).then(function(){\n",
       "                            \n",
       "var gd = document.getElementById('fbaf335e-eee3-4769-88c1-8e6a0efecf17');\n",
       "var x = new MutationObserver(function (mutations, observer) {{\n",
       "        var display = window.getComputedStyle(gd).display;\n",
       "        if (!display || display === 'none') {{\n",
       "            console.log([gd, 'removed!']);\n",
       "            Plotly.purge(gd);\n",
       "            observer.disconnect();\n",
       "        }}\n",
       "}});\n",
       "\n",
       "// Listen for the removal of the full notebook cells\n",
       "var notebookContainer = gd.closest('#notebook-container');\n",
       "if (notebookContainer) {{\n",
       "    x.observe(notebookContainer, {childList: true});\n",
       "}}\n",
       "\n",
       "// Listen for the clearing of the current output cell\n",
       "var outputEl = gd.closest('.output');\n",
       "if (outputEl) {{\n",
       "    x.observe(outputEl, {childList: true});\n",
       "}}\n",
       "\n",
       "                        })                };                });            </script>        </div>"
      ]
     },
     "metadata": {},
     "output_type": "display_data"
    }
   ],
   "source": [
    "k_mean.plot('petals', 'petals_count', y)"
   ]
  },
  {
   "cell_type": "code",
   "execution_count": null,
   "id": "5cbe803b",
   "metadata": {},
   "outputs": [],
   "source": []
  },
  {
   "cell_type": "code",
   "execution_count": null,
   "id": "1184d237",
   "metadata": {},
   "outputs": [],
   "source": []
  },
  {
   "cell_type": "code",
   "execution_count": null,
   "id": "abf503ce",
   "metadata": {},
   "outputs": [],
   "source": []
  },
  {
   "cell_type": "code",
   "execution_count": null,
   "id": "f6ed4984",
   "metadata": {},
   "outputs": [],
   "source": []
  },
  {
   "cell_type": "code",
   "execution_count": null,
   "id": "55922b02",
   "metadata": {},
   "outputs": [],
   "source": []
  },
  {
   "cell_type": "code",
   "execution_count": 215,
   "id": "fa4a6154",
   "metadata": {},
   "outputs": [],
   "source": [
    "def centroid(K, feat, data):\n",
    "    centr = []\n",
    "    c = []\n",
    "    for k in range(K):\n",
    "        for f in range(feat):\n",
    "            maximum = data.iloc[:,[f]].max()\n",
    "            minimum = data.iloc[:,[f]].min()\n",
    "            c.append(random.randint(ceil(minimum), ceil(maximum)))\n",
    "        centr.append(np.array(c))\n",
    "        c = []\n",
    "    return centr\n",
    "\n",
    "    "
   ]
  },
  {
   "cell_type": "code",
   "execution_count": 216,
   "id": "44a3caa6",
   "metadata": {},
   "outputs": [],
   "source": [
    "def nearest_center(center, point):\n",
    "    dist = math.inf \n",
    "    point = np.array(point)\n",
    "    for c in center:\n",
    "        dist_p = sum((point-c)**2)\n",
    "        if dist_p < dist:\n",
    "            dist = dist_p\n",
    "            cluster = c\n",
    "    return np.where(center == cluster)[0][0]    \n",
    "\n",
    "\n",
    "        "
   ]
  },
  {
   "cell_type": "code",
   "execution_count": 217,
   "id": "17609fd0",
   "metadata": {},
   "outputs": [],
   "source": [
    "def optim_centr(center, data):\n",
    "    f = [i for i in range(2)]\n",
    "    data['cluster'] = data.apply(lambda x: nearest_center(center, x.iloc[f].values.flatten().tolist()), axis=1)\n",
    "    \n",
    "    return data\n"
   ]
  },
  {
   "cell_type": "code",
   "execution_count": 292,
   "id": "cb46129b",
   "metadata": {},
   "outputs": [
    {
     "ename": "IndentationError",
     "evalue": "expected an indented block after 'else' statement on line 9 (1832634860.py, line 11)",
     "output_type": "error",
     "traceback": [
      "\u001b[1;36m  Cell \u001b[1;32mIn[292], line 11\u001b[1;36m\u001b[0m\n\u001b[1;33m    new_center.append(c_new)\u001b[0m\n\u001b[1;37m    ^\u001b[0m\n\u001b[1;31mIndentationError\u001b[0m\u001b[1;31m:\u001b[0m expected an indented block after 'else' statement on line 9\n"
     ]
    }
   ],
   "source": [
    "def new_centroid(data, K, feat):\n",
    "    new_center = []\n",
    "    for k in range(K):\n",
    "        c = []\n",
    "        for f in range(feat):\n",
    "            c = df[df['cluster'] == k].iloc[:,f].mean()\n",
    "            if c:\n",
    "                c_new.append(c)\n",
    "            else:\n",
    "                \n",
    "        new_center.append(c_new)\n",
    "    return np.array(new_center)\n",
    "            \n",
    "    "
   ]
  },
  {
   "cell_type": "code",
   "execution_count": null,
   "id": "b58562f6",
   "metadata": {},
   "outputs": [],
   "source": []
  },
  {
   "cell_type": "code",
   "execution_count": null,
   "id": "d2418e0f",
   "metadata": {},
   "outputs": [],
   "source": []
  },
  {
   "cell_type": "code",
   "execution_count": null,
   "id": "135c0545",
   "metadata": {},
   "outputs": [],
   "source": []
  }
 ],
 "metadata": {
  "kernelspec": {
   "display_name": "Python 3 (ipykernel)",
   "language": "python",
   "name": "python3"
  },
  "language_info": {
   "codemirror_mode": {
    "name": "ipython",
    "version": 3
   },
   "file_extension": ".py",
   "mimetype": "text/x-python",
   "name": "python",
   "nbconvert_exporter": "python",
   "pygments_lexer": "ipython3",
   "version": "3.10.9"
  }
 },
 "nbformat": 4,
 "nbformat_minor": 5
}
