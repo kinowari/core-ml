{
 "cells": [
  {
   "cell_type": "code",
   "execution_count": 1,
   "id": "4efd8d9a",
   "metadata": {},
   "outputs": [],
   "source": [
    "import numpy as np\n",
    "import pandas as pd"
   ]
  },
  {
   "cell_type": "markdown",
   "id": "07c7222e",
   "metadata": {},
   "source": [
    "Задача, определить приблизительную стоимость цветов у поставщиков"
   ]
  },
  {
   "cell_type": "code",
   "execution_count": 3,
   "id": "d1526779",
   "metadata": {},
   "outputs": [
    {
     "data": {
      "text/html": [
       "<div>\n",
       "<style scoped>\n",
       "    .dataframe tbody tr th:only-of-type {\n",
       "        vertical-align: middle;\n",
       "    }\n",
       "\n",
       "    .dataframe tbody tr th {\n",
       "        vertical-align: top;\n",
       "    }\n",
       "\n",
       "    .dataframe thead th {\n",
       "        text-align: right;\n",
       "    }\n",
       "</style>\n",
       "<table border=\"1\" class=\"dataframe\">\n",
       "  <thead>\n",
       "    <tr style=\"text-align: right;\">\n",
       "      <th></th>\n",
       "      <th>цена в прошлом месяце</th>\n",
       "      <th>запасы т.</th>\n",
       "      <th>коэф. спроса</th>\n",
       "      <th>текущая цена</th>\n",
       "    </tr>\n",
       "  </thead>\n",
       "  <tbody>\n",
       "    <tr>\n",
       "      <th>0</th>\n",
       "      <td>1525</td>\n",
       "      <td>1.32</td>\n",
       "      <td>0.735</td>\n",
       "      <td>1650</td>\n",
       "    </tr>\n",
       "    <tr>\n",
       "      <th>1</th>\n",
       "      <td>1500</td>\n",
       "      <td>1.31</td>\n",
       "      <td>0.740</td>\n",
       "      <td>1650</td>\n",
       "    </tr>\n",
       "    <tr>\n",
       "      <th>2</th>\n",
       "      <td>1500</td>\n",
       "      <td>1.28</td>\n",
       "      <td>0.730</td>\n",
       "      <td>1575</td>\n",
       "    </tr>\n",
       "    <tr>\n",
       "      <th>3</th>\n",
       "      <td>1500</td>\n",
       "      <td>1.40</td>\n",
       "      <td>0.740</td>\n",
       "      <td>1600</td>\n",
       "    </tr>\n",
       "    <tr>\n",
       "      <th>4</th>\n",
       "      <td>1450</td>\n",
       "      <td>1.33</td>\n",
       "      <td>0.730</td>\n",
       "      <td>1550</td>\n",
       "    </tr>\n",
       "    <tr>\n",
       "      <th>5</th>\n",
       "      <td>1550</td>\n",
       "      <td>1.29</td>\n",
       "      <td>0.730</td>\n",
       "      <td>1700</td>\n",
       "    </tr>\n",
       "    <tr>\n",
       "      <th>6</th>\n",
       "      <td>1000</td>\n",
       "      <td>1.10</td>\n",
       "      <td>0.710</td>\n",
       "      <td>1100</td>\n",
       "    </tr>\n",
       "    <tr>\n",
       "      <th>7</th>\n",
       "      <td>1300</td>\n",
       "      <td>1.30</td>\n",
       "      <td>0.730</td>\n",
       "      <td>1475</td>\n",
       "    </tr>\n",
       "    <tr>\n",
       "      <th>8</th>\n",
       "      <td>1250</td>\n",
       "      <td>1.20</td>\n",
       "      <td>0.720</td>\n",
       "      <td>1300</td>\n",
       "    </tr>\n",
       "    <tr>\n",
       "      <th>9</th>\n",
       "      <td>1200</td>\n",
       "      <td>1.24</td>\n",
       "      <td>0.720</td>\n",
       "      <td>1235</td>\n",
       "    </tr>\n",
       "  </tbody>\n",
       "</table>\n",
       "</div>"
      ],
      "text/plain": [
       "   цена в прошлом месяце  запасы т.  коэф. спроса  текущая цена\n",
       "0                   1525       1.32         0.735          1650\n",
       "1                   1500       1.31         0.740          1650\n",
       "2                   1500       1.28         0.730          1575\n",
       "3                   1500       1.40         0.740          1600\n",
       "4                   1450       1.33         0.730          1550\n",
       "5                   1550       1.29         0.730          1700\n",
       "6                   1000       1.10         0.710          1100\n",
       "7                   1300       1.30         0.730          1475\n",
       "8                   1250       1.20         0.720          1300\n",
       "9                   1200       1.24         0.720          1235"
      ]
     },
     "execution_count": 3,
     "metadata": {},
     "output_type": "execute_result"
    }
   ],
   "source": [
    "df = pd.DataFrame(data={'цена в прошлом месяце': [1000, 1250, 1200, 1300, 1500, 1450, 1500, 1500, 1550, 1525],\n",
    "                        'запасы т.': [1.1, 1.2, 1.24, 1.3, 1.4, 1.33, 1.28, 1.31, 1.29, 1.32],\n",
    "                        'коэф. спроса': [0.71, 0.72, 0.72, 0.73, 0.74, 0.73, 0.73, 0.74, 0.73, 0.735],\n",
    "                        'текущая цена' : [1100, 1300, 1235, 1475, 1600, 1550, 1575, 1650, 1700, 1650]\n",
    "                       }).sample(frac=1).reset_index(drop=True)\n",
    "df"
   ]
  },
  {
   "cell_type": "code",
   "execution_count": 5,
   "id": "93932fde",
   "metadata": {},
   "outputs": [],
   "source": [
    "class LinearRegression:\n",
    "    def __init__(self, data):\n",
    "        self.data = data.copy()\n",
    "        self.w = np.array([np.nan]*(data.shape[1]-1))\n",
    "        self.y = df.iloc[:, -1].to_numpy().reshape(data.shape[0], 1)\n",
    "        self.x = self.data.iloc[:, :-1].to_numpy()\n",
    "        \n",
    "    def fit(self):\n",
    "        self.w = np.dot(np.dot(np.linalg.inv(np.dot(self.x.T, self.x)), self.x.T), self.y)\n",
    "        self.data['predict'] = np.dot(self.x, self.w).reshape(self.data.shape[0],)\n",
    "        return self.data\n",
    "        "
   ]
  },
  {
   "cell_type": "code",
   "execution_count": 6,
   "id": "9e0c425c",
   "metadata": {},
   "outputs": [
    {
     "data": {
      "text/html": [
       "<div>\n",
       "<style scoped>\n",
       "    .dataframe tbody tr th:only-of-type {\n",
       "        vertical-align: middle;\n",
       "    }\n",
       "\n",
       "    .dataframe tbody tr th {\n",
       "        vertical-align: top;\n",
       "    }\n",
       "\n",
       "    .dataframe thead th {\n",
       "        text-align: right;\n",
       "    }\n",
       "</style>\n",
       "<table border=\"1\" class=\"dataframe\">\n",
       "  <thead>\n",
       "    <tr style=\"text-align: right;\">\n",
       "      <th></th>\n",
       "      <th>цена в прошлом месяце</th>\n",
       "      <th>запасы т.</th>\n",
       "      <th>коэф. спроса</th>\n",
       "      <th>текущая цена</th>\n",
       "      <th>predict</th>\n",
       "    </tr>\n",
       "  </thead>\n",
       "  <tbody>\n",
       "    <tr>\n",
       "      <th>0</th>\n",
       "      <td>1525</td>\n",
       "      <td>1.32</td>\n",
       "      <td>0.735</td>\n",
       "      <td>1650</td>\n",
       "      <td>1643.931348</td>\n",
       "    </tr>\n",
       "    <tr>\n",
       "      <th>1</th>\n",
       "      <td>1500</td>\n",
       "      <td>1.31</td>\n",
       "      <td>0.740</td>\n",
       "      <td>1650</td>\n",
       "      <td>1616.492578</td>\n",
       "    </tr>\n",
       "    <tr>\n",
       "      <th>2</th>\n",
       "      <td>1500</td>\n",
       "      <td>1.28</td>\n",
       "      <td>0.730</td>\n",
       "      <td>1575</td>\n",
       "      <td>1616.486654</td>\n",
       "    </tr>\n",
       "    <tr>\n",
       "      <th>3</th>\n",
       "      <td>1500</td>\n",
       "      <td>1.40</td>\n",
       "      <td>0.740</td>\n",
       "      <td>1600</td>\n",
       "      <td>1617.629704</td>\n",
       "    </tr>\n",
       "    <tr>\n",
       "      <th>4</th>\n",
       "      <td>1450</td>\n",
       "      <td>1.33</td>\n",
       "      <td>0.730</td>\n",
       "      <td>1550</td>\n",
       "      <td>1562.866663</td>\n",
       "    </tr>\n",
       "    <tr>\n",
       "      <th>5</th>\n",
       "      <td>1550</td>\n",
       "      <td>1.29</td>\n",
       "      <td>0.730</td>\n",
       "      <td>1700</td>\n",
       "      <td>1670.864729</td>\n",
       "    </tr>\n",
       "    <tr>\n",
       "      <th>6</th>\n",
       "      <td>1000</td>\n",
       "      <td>1.10</td>\n",
       "      <td>0.710</td>\n",
       "      <td>1100</td>\n",
       "      <td>1072.441363</td>\n",
       "    </tr>\n",
       "    <tr>\n",
       "      <th>7</th>\n",
       "      <td>1300</td>\n",
       "      <td>1.30</td>\n",
       "      <td>0.730</td>\n",
       "      <td>1475</td>\n",
       "      <td>1399.732439</td>\n",
       "    </tr>\n",
       "    <tr>\n",
       "      <th>8</th>\n",
       "      <td>1250</td>\n",
       "      <td>1.20</td>\n",
       "      <td>0.720</td>\n",
       "      <td>1300</td>\n",
       "      <td>1344.590356</td>\n",
       "    </tr>\n",
       "    <tr>\n",
       "      <th>9</th>\n",
       "      <td>1200</td>\n",
       "      <td>1.24</td>\n",
       "      <td>0.720</td>\n",
       "      <td>1235</td>\n",
       "      <td>1290.844018</td>\n",
       "    </tr>\n",
       "  </tbody>\n",
       "</table>\n",
       "</div>"
      ],
      "text/plain": [
       "   цена в прошлом месяце  запасы т.  коэф. спроса  текущая цена      predict\n",
       "0                   1525       1.32         0.735          1650  1643.931348\n",
       "1                   1500       1.31         0.740          1650  1616.492578\n",
       "2                   1500       1.28         0.730          1575  1616.486654\n",
       "3                   1500       1.40         0.740          1600  1617.629704\n",
       "4                   1450       1.33         0.730          1550  1562.866663\n",
       "5                   1550       1.29         0.730          1700  1670.864729\n",
       "6                   1000       1.10         0.710          1100  1072.441363\n",
       "7                   1300       1.30         0.730          1475  1399.732439\n",
       "8                   1250       1.20         0.720          1300  1344.590356\n",
       "9                   1200       1.24         0.720          1235  1290.844018"
      ]
     },
     "execution_count": 6,
     "metadata": {},
     "output_type": "execute_result"
    }
   ],
   "source": [
    "lr = LinearRegression(df)\n",
    "lr.fit()"
   ]
  },
  {
   "cell_type": "code",
   "execution_count": 15,
   "id": "5f6c6bc0",
   "metadata": {},
   "outputs": [],
   "source": [
    "pred = lr.fit()['predict']"
   ]
  },
  {
   "cell_type": "code",
   "execution_count": 16,
   "id": "63c7f9c5",
   "metadata": {},
   "outputs": [],
   "source": [
    "diff = pred.to_numpy() - df['текущая цена'].to_numpy()"
   ]
  },
  {
   "cell_type": "code",
   "execution_count": 17,
   "id": "e16438a2",
   "metadata": {},
   "outputs": [
    {
     "data": {
      "text/plain": [
       "1573.7478267846502"
      ]
     },
     "execution_count": 17,
     "metadata": {},
     "output_type": "execute_result"
    }
   ],
   "source": [
    "mse = ((diff)**2).mean()\n",
    "mse"
   ]
  },
  {
   "cell_type": "code",
   "execution_count": 18,
   "id": "ca76ba69",
   "metadata": {},
   "outputs": [
    {
     "data": {
      "text/plain": [
       "34.395493875583114"
      ]
     },
     "execution_count": 18,
     "metadata": {},
     "output_type": "execute_result"
    }
   ],
   "source": [
    "mae = (np.abs(diff)).mean()\n",
    "mae"
   ]
  },
  {
   "cell_type": "code",
   "execution_count": 10,
   "id": "f1a061f9",
   "metadata": {},
   "outputs": [
    {
     "data": {
      "text/plain": [
       "39.67049062949248"
      ]
     },
     "execution_count": 10,
     "metadata": {},
     "output_type": "execute_result"
    }
   ],
   "source": [
    "rmse = np.sqrt(((diff) ** 2).mean())\n",
    "rmse"
   ]
  },
  {
   "cell_type": "code",
   "execution_count": 11,
   "id": "699aad8c",
   "metadata": {},
   "outputs": [
    {
     "data": {
      "text/plain": [
       "2.425475163807869"
      ]
     },
     "execution_count": 11,
     "metadata": {},
     "output_type": "execute_result"
    }
   ],
   "source": [
    "mape = 100 * (np.abs((diff) / (pred.to_numpy() + np.exp(-20))).mean())\n",
    "mape"
   ]
  },
  {
   "cell_type": "code",
   "execution_count": 12,
   "id": "d607e02f",
   "metadata": {},
   "outputs": [
    {
     "data": {
      "text/plain": [
       "0.08115782494585007"
      ]
     },
     "execution_count": 12,
     "metadata": {},
     "output_type": "execute_result"
    }
   ],
   "source": [
    "mspe = 100 * ((((diff) / (pred.to_numpy() + np.exp(-20)))**2).mean())\n",
    "mspe"
   ]
  },
  {
   "cell_type": "markdown",
   "id": "0aaebdc3",
   "metadata": {},
   "source": [
    "Коэффициент детерминации"
   ]
  },
  {
   "cell_type": "markdown",
   "id": "07543173",
   "metadata": {},
   "source": [
    "Если значение R2 близко к единице, это означает, что построенная модель объясняет почти всю изменчивость \n",
    "соответствующих переменных."
   ]
  },
  {
   "cell_type": "code",
   "execution_count": 19,
   "id": "18a185b8",
   "metadata": {},
   "outputs": [
    {
     "data": {
      "text/plain": [
       "0.9554058445321174"
      ]
     },
     "execution_count": 19,
     "metadata": {},
     "output_type": "execute_result"
    }
   ],
   "source": [
    "r2 = 1 - ((diff)**2).sum()/((df['текущая цена'].to_numpy().mean() - pred.to_numpy())**2).sum()\n",
    "r2"
   ]
  },
  {
   "cell_type": "code",
   "execution_count": null,
   "id": "01473e8a",
   "metadata": {},
   "outputs": [],
   "source": []
  },
  {
   "cell_type": "markdown",
   "id": "3cfdfb8f",
   "metadata": {},
   "source": [
    "Коэффициент корреляции"
   ]
  },
  {
   "cell_type": "code",
   "execution_count": 14,
   "id": "38a4d099",
   "metadata": {},
   "outputs": [],
   "source": [
    "def corr(x, y):\n",
    "    n = x.shape[0]\n",
    "    x, y = x.to_numpy(), y.to_numpy()\n",
    "    chis = (x * y).sum() - (x.sum() * y.sum()) / n\n",
    "    znam = np.sqrt((x**2).sum()-((x.sum())**2)/n) * np.sqrt((y**2).sum()-((y.sum())**2)/n)\n",
    "    return chis / znam"
   ]
  },
  {
   "cell_type": "code",
   "execution_count": 20,
   "id": "7fc26dd0",
   "metadata": {},
   "outputs": [
    {
     "data": {
      "text/plain": [
       "0.9785821301114934"
      ]
     },
     "execution_count": 20,
     "metadata": {},
     "output_type": "execute_result"
    }
   ],
   "source": [
    "corr(df['текущая цена'], pred)"
   ]
  },
  {
   "cell_type": "code",
   "execution_count": null,
   "id": "f55a8532",
   "metadata": {},
   "outputs": [],
   "source": []
  }
 ],
 "metadata": {
  "kernelspec": {
   "display_name": "Python 3 (ipykernel)",
   "language": "python",
   "name": "python3"
  },
  "language_info": {
   "codemirror_mode": {
    "name": "ipython",
    "version": 3
   },
   "file_extension": ".py",
   "mimetype": "text/x-python",
   "name": "python",
   "nbconvert_exporter": "python",
   "pygments_lexer": "ipython3",
   "version": "3.10.9"
  }
 },
 "nbformat": 4,
 "nbformat_minor": 5
}
