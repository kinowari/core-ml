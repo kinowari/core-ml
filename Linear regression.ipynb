{
 "cells": [
  {
   "cell_type": "code",
   "execution_count": 1,
   "id": "4efd8d9a",
   "metadata": {},
   "outputs": [],
   "source": [
    "import numpy as np\n",
    "import pandas as pd"
   ]
  },
  {
   "cell_type": "markdown",
   "id": "59e1d590",
   "metadata": {},
   "source": [
    "Задача, определить приблизительную стоимость цветов у поставщиков"
   ]
  },
  {
   "cell_type": "code",
   "execution_count": 2,
   "id": "d1526779",
   "metadata": {},
   "outputs": [
    {
     "data": {
      "text/html": [
       "<div>\n",
       "<style scoped>\n",
       "    .dataframe tbody tr th:only-of-type {\n",
       "        vertical-align: middle;\n",
       "    }\n",
       "\n",
       "    .dataframe tbody tr th {\n",
       "        vertical-align: top;\n",
       "    }\n",
       "\n",
       "    .dataframe thead th {\n",
       "        text-align: right;\n",
       "    }\n",
       "</style>\n",
       "<table border=\"1\" class=\"dataframe\">\n",
       "  <thead>\n",
       "    <tr style=\"text-align: right;\">\n",
       "      <th></th>\n",
       "      <th>цена в прошлом месяце</th>\n",
       "      <th>запасы т.</th>\n",
       "      <th>коэф. спроса</th>\n",
       "      <th>текущая цена</th>\n",
       "    </tr>\n",
       "  </thead>\n",
       "  <tbody>\n",
       "    <tr>\n",
       "      <th>0</th>\n",
       "      <td>1550</td>\n",
       "      <td>1.29</td>\n",
       "      <td>0.730</td>\n",
       "      <td>1700</td>\n",
       "    </tr>\n",
       "    <tr>\n",
       "      <th>1</th>\n",
       "      <td>1450</td>\n",
       "      <td>1.33</td>\n",
       "      <td>0.730</td>\n",
       "      <td>1550</td>\n",
       "    </tr>\n",
       "    <tr>\n",
       "      <th>2</th>\n",
       "      <td>1250</td>\n",
       "      <td>1.20</td>\n",
       "      <td>0.720</td>\n",
       "      <td>1300</td>\n",
       "    </tr>\n",
       "    <tr>\n",
       "      <th>3</th>\n",
       "      <td>1500</td>\n",
       "      <td>1.28</td>\n",
       "      <td>0.730</td>\n",
       "      <td>1575</td>\n",
       "    </tr>\n",
       "    <tr>\n",
       "      <th>4</th>\n",
       "      <td>1500</td>\n",
       "      <td>1.40</td>\n",
       "      <td>0.740</td>\n",
       "      <td>1600</td>\n",
       "    </tr>\n",
       "    <tr>\n",
       "      <th>5</th>\n",
       "      <td>1300</td>\n",
       "      <td>1.30</td>\n",
       "      <td>0.730</td>\n",
       "      <td>1475</td>\n",
       "    </tr>\n",
       "    <tr>\n",
       "      <th>6</th>\n",
       "      <td>1200</td>\n",
       "      <td>1.24</td>\n",
       "      <td>0.720</td>\n",
       "      <td>1235</td>\n",
       "    </tr>\n",
       "    <tr>\n",
       "      <th>7</th>\n",
       "      <td>1500</td>\n",
       "      <td>1.31</td>\n",
       "      <td>0.740</td>\n",
       "      <td>1650</td>\n",
       "    </tr>\n",
       "    <tr>\n",
       "      <th>8</th>\n",
       "      <td>1525</td>\n",
       "      <td>1.32</td>\n",
       "      <td>0.735</td>\n",
       "      <td>1650</td>\n",
       "    </tr>\n",
       "    <tr>\n",
       "      <th>9</th>\n",
       "      <td>1000</td>\n",
       "      <td>1.10</td>\n",
       "      <td>0.710</td>\n",
       "      <td>1100</td>\n",
       "    </tr>\n",
       "  </tbody>\n",
       "</table>\n",
       "</div>"
      ],
      "text/plain": [
       "   цена в прошлом месяце  запасы т.  коэф. спроса  текущая цена\n",
       "0                   1550       1.29         0.730          1700\n",
       "1                   1450       1.33         0.730          1550\n",
       "2                   1250       1.20         0.720          1300\n",
       "3                   1500       1.28         0.730          1575\n",
       "4                   1500       1.40         0.740          1600\n",
       "5                   1300       1.30         0.730          1475\n",
       "6                   1200       1.24         0.720          1235\n",
       "7                   1500       1.31         0.740          1650\n",
       "8                   1525       1.32         0.735          1650\n",
       "9                   1000       1.10         0.710          1100"
      ]
     },
     "execution_count": 2,
     "metadata": {},
     "output_type": "execute_result"
    }
   ],
   "source": [
    "df = pd.DataFrame(data={'цена в прошлом месяце': [1000, 1250, 1200, 1300, 1500, 1450, 1500, 1500, 1550, 1525],\n",
    "                        'запасы т.': [1.1, 1.2, 1.24, 1.3, 1.4, 1.33, 1.28, 1.31, 1.29, 1.32],\n",
    "                        'коэф. спроса': [0.71, 0.72, 0.72, 0.73, 0.74, 0.73, 0.73, 0.74, 0.73, 0.735],\n",
    "                        'текущая цена' : [1100, 1300, 1235, 1475, 1600, 1550, 1575, 1650, 1700, 1650]\n",
    "                       }).sample(frac=1).reset_index(drop=True)\n",
    "df"
   ]
  },
  {
   "cell_type": "code",
   "execution_count": null,
   "id": "7b1ae13c",
   "metadata": {},
   "outputs": [],
   "source": []
  },
  {
   "cell_type": "code",
   "execution_count": null,
   "id": "6e6a412f",
   "metadata": {},
   "outputs": [],
   "source": []
  },
  {
   "cell_type": "code",
   "execution_count": null,
   "id": "ada53e06",
   "metadata": {},
   "outputs": [],
   "source": []
  },
  {
   "cell_type": "code",
   "execution_count": 3,
   "id": "97b9fee5",
   "metadata": {},
   "outputs": [],
   "source": [
    "from sklearn.datasets import make_regression\n",
    "from sklearn.model_selection import train_test_split"
   ]
  },
  {
   "cell_type": "code",
   "execution_count": 199,
   "id": "58af3816",
   "metadata": {},
   "outputs": [
    {
     "name": "stdout",
     "output_type": "stream",
     "text": [
      "7748.117006415323\n",
      "5177.688384902673\n",
      "3512.830273420247\n",
      "2417.7478734213596\n",
      "1686.644726595381\n",
      "1191.638525503124\n",
      "852.1027031576857\n",
      "616.442146522418\n",
      "451.14223528548763\n",
      "334.11024528393\n",
      "250.5749097359108\n",
      "190.52713655005678\n",
      "147.10013948233484\n",
      "115.529424348839\n",
      "92.47546073093065\n",
      "75.57633797686188\n",
      "63.148307593783414\n",
      "53.98275544893044\n",
      "47.20691583707006\n",
      "42.18727706601969\n",
      "38.46193698704972\n",
      "35.692817848560445\n",
      "33.631649194934525\n",
      "32.095587591280406\n",
      "30.949639562232278\n",
      "30.093923958545833\n",
      "29.454399954987288\n",
      "28.976091490164464\n",
      "28.61811925529576\n",
      "28.350047312737633\n",
      "28.14918958367427\n",
      "27.998619567819063\n",
      "27.885696806986434\n",
      "27.800974046285447\n",
      "27.73738550368819\n",
      "27.689643126716945\n",
      "27.653787006815737\n",
      "27.62685023202387\n",
      "27.60660881010244\n",
      "27.5913949087886\n",
      "27.579957274274648\n",
      "27.571356837334587\n",
      "27.564888587254895\n",
      "27.560023070523002\n",
      "27.55636256182692\n",
      "27.553608211889586\n",
      "27.55153541231901\n",
      "27.54997531487009\n",
      "27.54880096254199\n",
      "27.547916878140132\n"
     ]
    }
   ],
   "source": [
    "X, y = make_regression(n_samples=400, n_features=14, n_informative=5, noise=5, random_state=42)\n",
    "X = pd.DataFrame(X)\n",
    "y = pd.Series(y)\n",
    "X.columns = [f'col_{col}' for col in X.columns]\n",
    " \n",
    "# X_train, X_test, y_train, y_test = train_test_split(X, y, test_size=0.2)\n",
    " \n",
    "f.fit(X, y)\n"
   ]
  },
  {
   "cell_type": "code",
   "execution_count": 200,
   "id": "63a31740",
   "metadata": {},
   "outputs": [
    {
     "data": {
      "text/plain": [
       "8.77595471573636"
      ]
     },
     "execution_count": 200,
     "metadata": {},
     "output_type": "execute_result"
    }
   ],
   "source": [
    "f.get_coef().mean()"
   ]
  },
  {
   "cell_type": "code",
   "execution_count": 3,
   "id": "7b5e4ce1",
   "metadata": {},
   "outputs": [],
   "source": [
    "class MyLineReg():\n",
    "    def __init__(self, n_iter=100, learning_rate=0.1, weights=None):\n",
    "        self.n_iter = n_iter\n",
    "        self.learning_rate = learning_rate\n",
    "        self.weights  = weights \n",
    "        \n",
    "    def __repr__(self):\n",
    "        return f'MyLineReg class: n_iter={self.n_iter}, learning_rate={self.learning_rate}'\n",
    "    \n",
    "    def fit(self, X, y, verbose=False): \n",
    "        n_feature = X.shape[1]\n",
    "        n = X.shape[0]\n",
    "        X = X.to_numpy()\n",
    "        y = y.to_numpy().reshape(n, 1)\n",
    "        if self.weights is None:\n",
    "            self.weights = np.ones((n_feature + 1, 1)) \n",
    "        # add x0\n",
    "        ones = np.ones((n, 1)) \n",
    "        X = np.hstack((ones, X))\n",
    "        self.coef_hist = self.weights\n",
    "        \n",
    "        for i in range(1, self.n_iter+1):\n",
    "            y_pred = np.dot(X, self.weights)\n",
    "            grad = 2/n * np.dot((y_pred - y).T, X)\n",
    "            self.weights = self.weights - self.learning_rate*grad.reshape(n_feature + 1, 1)\n",
    "            self.coef_hist = np.c_[self.coef_hist, self.weights]  \n",
    "            print('w', self.weights.mean())\n",
    "            mse = ((y_pred - y)**2).mean()\n",
    "            print('mse', mse)\n",
    "            if verbose:\n",
    "                if i == 1:\n",
    "                    print('start | loss:', mse)\n",
    "                elif i % verbose == 0:\n",
    "                    print(i, '| loss:', mse)\n",
    "                    \n",
    "    def get_coef(self):\n",
    "        return self.weights[1:]"
   ]
  },
  {
   "cell_type": "code",
   "execution_count": 4,
   "id": "8cbe7952",
   "metadata": {},
   "outputs": [],
   "source": [
    "f = MyLineReg(n_iter=50, learning_rate = 0.1)#0.0000001"
   ]
  },
  {
   "cell_type": "code",
   "execution_count": 6,
   "id": "edc2535d",
   "metadata": {},
   "outputs": [
    {
     "data": {
      "text/plain": [
       "array([[-1.49393014e+278],\n",
       "       [-1.37230156e+275],\n",
       "       [-7.78924930e+274]])"
      ]
     },
     "execution_count": 6,
     "metadata": {},
     "output_type": "execute_result"
    }
   ],
   "source": [
    "f.get_coef()"
   ]
  },
  {
   "cell_type": "code",
   "execution_count": 5,
   "id": "11e6f499",
   "metadata": {},
   "outputs": [
    {
     "name": "stdout",
     "output_type": "stream",
     "text": [
      "w 7247.028478875001\n",
      "mse 12429.245422500004\n",
      "w -2793076439.02755\n",
      "mse 1612152833942852.0\n",
      "w 1076625185279796.9\n",
      "mse 2.395353629411645e+26\n",
      "w -4.1499823384348964e+20\n",
      "mse 3.559041605198426e+37\n",
      "w 1.5996610189688058e+26\n",
      "mse 5.288061433603293e+48\n",
      "w -6.166087387671567e+31\n",
      "mse 7.857057272024631e+59\n",
      "w 2.376793159397716e+37\n",
      "mse 1.167409829688948e+71\n",
      "w -9.161637465363594e+42\n",
      "mse 1.7345497980609677e+82\n",
      "w 3.53146426372345e+48\n",
      "mse 2.577212325473558e+93\n",
      "w -1.3612457263348899e+54\n",
      "mse 3.8292491677078776e+104\n",
      "w 5.24708672971612e+59\n",
      "mse 5.689538670701933e+115\n",
      "w -2.0225532111158066e+65\n",
      "mse 8.453576371680553e+126\n",
      "w 7.796176626217458e+70\n",
      "mse 1.2560412646429754e+138\n",
      "w -3.005130824402289e+76\n",
      "mse 1.866239315907776e+149\n",
      "w 1.1583641193304193e+82\n",
      "mse 2.772877995556866e+160\n",
      "w -4.4650549721708665e+87\n",
      "mse 4.119971277372565e+171\n",
      "w 1.7211095865117087e+93\n",
      "mse 6.121496637635537e+182\n",
      "w -6.634225619270042e+98\n",
      "mse 9.095384060172553e+193\n",
      "w 2.5572427178552326e+104\n",
      "mse 1.3514017257386645e+205\n",
      "w -9.857202171461802e+109\n",
      "mse 2.0079268915388637e+216\n",
      "w 3.7995781147658672e+115\n",
      "mse 2.9833988850067463e+227\n",
      "w -1.4645934616218586e+121\n",
      "mse 4.432765428146679e+238\n",
      "w 5.645453108305621e+126\n",
      "mse 6.586249475295345e+249\n",
      "w -2.176108362711398e+132\n",
      "mse 9.785918712365669e+260\n",
      "w 8.3880735795957e+137\n",
      "mse 1.454002090328263e+272\n",
      "w -3.233284682985373e+143\n",
      "mse 2.160371591895112e+283\n",
      "w 1.2463087909311956e+149\n",
      "mse 3.209902823464116e+294\n",
      "w -4.804048373860452e+154\n",
      "mse 4.7693073611676835e+305\n",
      "w 1.8517787041482368e+160\n",
      "mse inf\n",
      "w -7.137905579375692e+165\n",
      "mse inf\n",
      "w 2.7513922665785252e+171\n",
      "mse inf\n",
      "w -1.0605575151430107e+177\n",
      "mse inf\n",
      "w 4.088047555374692e+182\n",
      "mse inf\n",
      "w -1.5757875057583707e+188\n",
      "mse inf\n",
      "w 6.074064035873464e+193\n",
      "mse inf\n",
      "w -2.3413216424847563e+199\n",
      "mse inf\n",
      "w 9.024908201810259e+204\n",
      "mse inf\n",
      "w -3.4787603109781776e+210\n",
      "mse inf\n",
      "w 1.3409303486111428e+216\n",
      "mse inf\n",
      "w -5.168778642644689e+221\n",
      "mse inf\n",
      "w 1.9923684093160424e+227\n",
      "mse inf\n",
      "w -7.679825647185114e+232\n",
      "mse inf\n",
      "w 2.9602819285520264e+238\n",
      "mse inf\n",
      "w -1.1410765685447176e+244\n",
      "mse inf\n",
      "w 4.398418011215125e+249\n",
      "mse inf\n",
      "w -1.6954235618083728e+255\n",
      "mse inf\n",
      "w 6.535215722120235e+260\n",
      "mse inf\n",
      "w -2.5190781523109876e+266\n",
      "mse inf\n",
      "w 9.710092225374577e+271\n",
      "mse inf\n",
      "w -3.742872802051913e+277\n",
      "mse inf\n"
     ]
    },
    {
     "name": "stderr",
     "output_type": "stream",
     "text": [
      "C:\\Users\\renata\\AppData\\Local\\Temp\\ipykernel_17224\\1277191055.py:28: RuntimeWarning: overflow encountered in square\n",
      "  mse = ((y_pred - y)**2).mean()\n"
     ]
    }
   ],
   "source": [
    "f.fit(df.iloc[:, :-1], df['текущая цена'])"
   ]
  },
  {
   "cell_type": "code",
   "execution_count": null,
   "id": "96dd0804",
   "metadata": {},
   "outputs": [],
   "source": []
  },
  {
   "cell_type": "code",
   "execution_count": 5,
   "id": "93932fde",
   "metadata": {},
   "outputs": [],
   "source": [
    "class LinearRegression:\n",
    "    def __init__(self, data):\n",
    "        self.data = data.copy()\n",
    "        self.w = np.array([np.nan]*(data.shape[1]-1))\n",
    "        self.y = df.iloc[:, -1].to_numpy().reshape(data.shape[0], 1)\n",
    "        self.x = self.data.iloc[:, :-1].to_numpy()\n",
    "        \n",
    "    def fit(self):\n",
    "        # Аналитическое решение (не крутое!)\n",
    "        self.w = np.dot(np.dot(np.linalg.inv(np.dot(self.x.T, self.x)), self.x.T), self.y)\n",
    "        self.data['predict'] = np.dot(self.x, self.w).reshape(self.data.shape[0],)\n",
    "        return self.data "
   ]
  },
  {
   "cell_type": "code",
   "execution_count": 6,
   "id": "9e0c425c",
   "metadata": {},
   "outputs": [
    {
     "data": {
      "text/html": [
       "<div>\n",
       "<style scoped>\n",
       "    .dataframe tbody tr th:only-of-type {\n",
       "        vertical-align: middle;\n",
       "    }\n",
       "\n",
       "    .dataframe tbody tr th {\n",
       "        vertical-align: top;\n",
       "    }\n",
       "\n",
       "    .dataframe thead th {\n",
       "        text-align: right;\n",
       "    }\n",
       "</style>\n",
       "<table border=\"1\" class=\"dataframe\">\n",
       "  <thead>\n",
       "    <tr style=\"text-align: right;\">\n",
       "      <th></th>\n",
       "      <th>цена в прошлом месяце</th>\n",
       "      <th>запасы т.</th>\n",
       "      <th>коэф. спроса</th>\n",
       "      <th>текущая цена</th>\n",
       "      <th>predict</th>\n",
       "    </tr>\n",
       "  </thead>\n",
       "  <tbody>\n",
       "    <tr>\n",
       "      <th>0</th>\n",
       "      <td>1525</td>\n",
       "      <td>1.32</td>\n",
       "      <td>0.735</td>\n",
       "      <td>1650</td>\n",
       "      <td>1643.931348</td>\n",
       "    </tr>\n",
       "    <tr>\n",
       "      <th>1</th>\n",
       "      <td>1500</td>\n",
       "      <td>1.31</td>\n",
       "      <td>0.740</td>\n",
       "      <td>1650</td>\n",
       "      <td>1616.492578</td>\n",
       "    </tr>\n",
       "    <tr>\n",
       "      <th>2</th>\n",
       "      <td>1500</td>\n",
       "      <td>1.28</td>\n",
       "      <td>0.730</td>\n",
       "      <td>1575</td>\n",
       "      <td>1616.486654</td>\n",
       "    </tr>\n",
       "    <tr>\n",
       "      <th>3</th>\n",
       "      <td>1500</td>\n",
       "      <td>1.40</td>\n",
       "      <td>0.740</td>\n",
       "      <td>1600</td>\n",
       "      <td>1617.629704</td>\n",
       "    </tr>\n",
       "    <tr>\n",
       "      <th>4</th>\n",
       "      <td>1450</td>\n",
       "      <td>1.33</td>\n",
       "      <td>0.730</td>\n",
       "      <td>1550</td>\n",
       "      <td>1562.866663</td>\n",
       "    </tr>\n",
       "    <tr>\n",
       "      <th>5</th>\n",
       "      <td>1550</td>\n",
       "      <td>1.29</td>\n",
       "      <td>0.730</td>\n",
       "      <td>1700</td>\n",
       "      <td>1670.864729</td>\n",
       "    </tr>\n",
       "    <tr>\n",
       "      <th>6</th>\n",
       "      <td>1000</td>\n",
       "      <td>1.10</td>\n",
       "      <td>0.710</td>\n",
       "      <td>1100</td>\n",
       "      <td>1072.441363</td>\n",
       "    </tr>\n",
       "    <tr>\n",
       "      <th>7</th>\n",
       "      <td>1300</td>\n",
       "      <td>1.30</td>\n",
       "      <td>0.730</td>\n",
       "      <td>1475</td>\n",
       "      <td>1399.732439</td>\n",
       "    </tr>\n",
       "    <tr>\n",
       "      <th>8</th>\n",
       "      <td>1250</td>\n",
       "      <td>1.20</td>\n",
       "      <td>0.720</td>\n",
       "      <td>1300</td>\n",
       "      <td>1344.590356</td>\n",
       "    </tr>\n",
       "    <tr>\n",
       "      <th>9</th>\n",
       "      <td>1200</td>\n",
       "      <td>1.24</td>\n",
       "      <td>0.720</td>\n",
       "      <td>1235</td>\n",
       "      <td>1290.844018</td>\n",
       "    </tr>\n",
       "  </tbody>\n",
       "</table>\n",
       "</div>"
      ],
      "text/plain": [
       "   цена в прошлом месяце  запасы т.  коэф. спроса  текущая цена      predict\n",
       "0                   1525       1.32         0.735          1650  1643.931348\n",
       "1                   1500       1.31         0.740          1650  1616.492578\n",
       "2                   1500       1.28         0.730          1575  1616.486654\n",
       "3                   1500       1.40         0.740          1600  1617.629704\n",
       "4                   1450       1.33         0.730          1550  1562.866663\n",
       "5                   1550       1.29         0.730          1700  1670.864729\n",
       "6                   1000       1.10         0.710          1100  1072.441363\n",
       "7                   1300       1.30         0.730          1475  1399.732439\n",
       "8                   1250       1.20         0.720          1300  1344.590356\n",
       "9                   1200       1.24         0.720          1235  1290.844018"
      ]
     },
     "execution_count": 6,
     "metadata": {},
     "output_type": "execute_result"
    }
   ],
   "source": [
    "lr = LinearRegression(df)\n",
    "lr.fit()"
   ]
  },
  {
   "cell_type": "code",
   "execution_count": 15,
   "id": "5f6c6bc0",
   "metadata": {},
   "outputs": [],
   "source": [
    "pred = lr.fit()['predict']"
   ]
  },
  {
   "cell_type": "code",
   "execution_count": 16,
   "id": "63c7f9c5",
   "metadata": {},
   "outputs": [],
   "source": [
    "diff = pred.to_numpy() - df['текущая цена'].to_numpy()"
   ]
  },
  {
   "cell_type": "code",
   "execution_count": 17,
   "id": "e16438a2",
   "metadata": {},
   "outputs": [
    {
     "data": {
      "text/plain": [
       "1573.7478267846502"
      ]
     },
     "execution_count": 17,
     "metadata": {},
     "output_type": "execute_result"
    }
   ],
   "source": [
    "mse = ((diff)**2).mean()\n",
    "mse"
   ]
  },
  {
   "cell_type": "code",
   "execution_count": 18,
   "id": "ca76ba69",
   "metadata": {},
   "outputs": [
    {
     "data": {
      "text/plain": [
       "34.395493875583114"
      ]
     },
     "execution_count": 18,
     "metadata": {},
     "output_type": "execute_result"
    }
   ],
   "source": [
    "mae = (np.abs(diff)).mean()\n",
    "mae"
   ]
  },
  {
   "cell_type": "code",
   "execution_count": 10,
   "id": "f1a061f9",
   "metadata": {},
   "outputs": [
    {
     "data": {
      "text/plain": [
       "39.67049062949248"
      ]
     },
     "execution_count": 10,
     "metadata": {},
     "output_type": "execute_result"
    }
   ],
   "source": [
    "rmse = np.sqrt(((diff) ** 2).mean())\n",
    "rmse"
   ]
  },
  {
   "cell_type": "code",
   "execution_count": 11,
   "id": "699aad8c",
   "metadata": {},
   "outputs": [
    {
     "data": {
      "text/plain": [
       "2.425475163807869"
      ]
     },
     "execution_count": 11,
     "metadata": {},
     "output_type": "execute_result"
    }
   ],
   "source": [
    "mape = 100 * (np.abs((diff) / (pred.to_numpy() + np.exp(-20))).mean())\n",
    "mape"
   ]
  },
  {
   "cell_type": "code",
   "execution_count": 12,
   "id": "d607e02f",
   "metadata": {},
   "outputs": [
    {
     "data": {
      "text/plain": [
       "0.08115782494585007"
      ]
     },
     "execution_count": 12,
     "metadata": {},
     "output_type": "execute_result"
    }
   ],
   "source": [
    "mspe = 100 * ((((diff) / (pred.to_numpy() + np.exp(-20)))**2).mean())\n",
    "mspe"
   ]
  },
  {
   "cell_type": "markdown",
   "id": "0aaebdc3",
   "metadata": {},
   "source": [
    "Коэффициент детерминации"
   ]
  },
  {
   "cell_type": "markdown",
   "id": "07543173",
   "metadata": {},
   "source": [
    "Если значение R2 близко к единице, это означает, что построенная модель объясняет почти всю изменчивость \n",
    "соответствующих переменных."
   ]
  },
  {
   "cell_type": "code",
   "execution_count": 19,
   "id": "18a185b8",
   "metadata": {},
   "outputs": [
    {
     "data": {
      "text/plain": [
       "0.9554058445321174"
      ]
     },
     "execution_count": 19,
     "metadata": {},
     "output_type": "execute_result"
    }
   ],
   "source": [
    "r2 = 1 - ((diff)**2).sum()/((df['текущая цена'].to_numpy().mean() - pred.to_numpy())**2).sum()\n",
    "r2"
   ]
  },
  {
   "cell_type": "code",
   "execution_count": null,
   "id": "01473e8a",
   "metadata": {},
   "outputs": [],
   "source": []
  },
  {
   "cell_type": "markdown",
   "id": "879775ba",
   "metadata": {},
   "source": [
    "Коэффициент корреляции"
   ]
  },
  {
   "cell_type": "code",
   "execution_count": 14,
   "id": "38a4d099",
   "metadata": {},
   "outputs": [],
   "source": [
    "def corr(x, y):\n",
    "    n = x.shape[0]\n",
    "    x, y = x.to_numpy(), y.to_numpy()\n",
    "    chis = (x * y).sum() - (x.sum() * y.sum()) / n\n",
    "    znam = np.sqrt((x**2).sum()-((x.sum())**2)/n) * np.sqrt((y**2).sum()-((y.sum())**2)/n)\n",
    "    return chis / znam"
   ]
  },
  {
   "cell_type": "code",
   "execution_count": 20,
   "id": "7fc26dd0",
   "metadata": {},
   "outputs": [
    {
     "data": {
      "text/plain": [
       "0.9785821301114934"
      ]
     },
     "execution_count": 20,
     "metadata": {},
     "output_type": "execute_result"
    }
   ],
   "source": [
    "corr(df['текущая цена'], pred)"
   ]
  },
  {
   "cell_type": "code",
   "execution_count": null,
   "id": "b3d49bb9",
   "metadata": {},
   "outputs": [],
   "source": []
  }
 ],
 "metadata": {
  "kernelspec": {
   "display_name": "Python 3 (ipykernel)",
   "language": "python",
   "name": "python3"
  },
  "language_info": {
   "codemirror_mode": {
    "name": "ipython",
    "version": 3
   },
   "file_extension": ".py",
   "mimetype": "text/x-python",
   "name": "python",
   "nbconvert_exporter": "python",
   "pygments_lexer": "ipython3",
   "version": "3.10.9"
  }
 },
 "nbformat": 4,
 "nbformat_minor": 5
}
